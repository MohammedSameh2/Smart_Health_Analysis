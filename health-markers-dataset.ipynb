{
 "cells": [
  {
   "cell_type": "markdown",
   "metadata": {},
   "source": [
    "**بسم الله الرحمن الرحيم**"
   ]
  },
  {
   "cell_type": "code",
   "execution_count": 73,
   "metadata": {
    "execution": {
     "iopub.execute_input": "2025-09-04T12:14:43.214251Z",
     "iopub.status.busy": "2025-09-04T12:14:43.213893Z",
     "iopub.status.idle": "2025-09-04T12:14:45.807747Z",
     "shell.execute_reply": "2025-09-04T12:14:45.806693Z",
     "shell.execute_reply.started": "2025-09-04T12:14:43.214219Z"
    },
    "id": "1R1BJeCpQXHA",
    "trusted": true
   },
   "outputs": [],
   "source": [
    "import numpy as np\n",
    "import pandas as pd\n",
    "import matplotlib.pyplot as plt\n",
    "import seaborn as sns\n",
    "import plotly.express as px\n",
    "import warnings\n",
    "warnings.filterwarnings('ignore')\n",
    "pd.options.display.max_columns = None\n",
    "pd.options.display.max_rows = None\n"
   ]
  },
  {
   "cell_type": "code",
   "execution_count": 74,
   "metadata": {
    "execution": {
     "iopub.execute_input": "2025-09-04T12:14:45.809684Z",
     "iopub.status.busy": "2025-09-04T12:14:45.809131Z",
     "iopub.status.idle": "2025-09-04T12:14:45.892867Z",
     "shell.execute_reply": "2025-09-04T12:14:45.891896Z",
     "shell.execute_reply.started": "2025-09-04T12:14:45.809645Z"
    },
    "id": "MxRsxwWOQ_7J",
    "trusted": true
   },
   "outputs": [],
   "source": [
    "df = pd.read_csv('health_markers_dataset.csv')"
   ]
  },
  {
   "cell_type": "markdown",
   "metadata": {
    "id": "FSX-cbAuF6uT"
   },
   "source": [
    "# **About Dataset**"
   ]
  },
  {
   "cell_type": "markdown",
   "metadata": {
    "id": "V4U6hE4fFqMq"
   },
   "source": [
    "This dataset contains **medical diagnostic test results** used to predict an individual's health condition.  \n",
    "The main goal is to build a **classification model** that can identify potential diseases  \n",
    "based on **9 key biomarkers**.\n",
    "\n",
    "---\n",
    "\n",
    "##  **Features (Input Variables)**\n",
    "The dataset includes the following medical test results:\n",
    "\n",
    "- **Blood Glucose** → Measures the level of sugar in the blood.  \n",
    "- **HbA1C** → Indicator of long-term blood glucose levels (3-month average).  \n",
    "- **Systolic BP** → Systolic blood pressure (upper value).  \n",
    "- **Diastolic BP** → Diastolic blood pressure (lower value).  \n",
    "- **LDL** → Low-Density Lipoprotein (bad cholesterol).  \n",
    "- **HDL** → High-Density Lipoprotein (good cholesterol).  \n",
    "- **Triglycerides** → Type of fat (lipid) found in the blood.  \n",
    "- **Haemoglobin** → Measures the oxygen-carrying capacity of red blood cells.  \n",
    "- **MCV (Mean Corpuscular Volume)** → Average size of red blood cells.  \n",
    "\n",
    "---\n",
    "\n",
    "##  **Target Variable (Health Condition)**\n",
    "The model aims to classify individuals into one of the following categories:\n",
    "\n",
    "- **Fit** → No major health issues.  \n",
    "- **Anemia** → Low haemoglobin or red blood cell count.  \n",
    "- **Hypertension** → High blood pressure condition.  \n",
    "- **Diabetes** → High blood glucose and HbA1C levels.  \n",
    "- **High Cholesterol** → Elevated LDL and triglycerides.  \n",
    "\n",
    "---\n",
    "\n",
    "##  **Use Cases**\n",
    "- **Health Risk Prediction** → Estimate the likelihood of common diseases.  \n",
    "- **Preventive Healthcare** → Early detection of health risks.  \n",
    "- **Medical Decision Support** → Assisting doctors in preliminary diagnosis.  \n",
    "- **AI in Healthcare** → Insurance risk assessment and personalized healthcare.  \n",
    "\n",
    "---\n",
    "\n",
    "##  **Suggested Machine Learning Approaches**\n",
    "- **Classification Algorithms:** Decision Trees, Random Forest, SVM, Naïve Bayes.  \n",
    "- **Feature Engineering:** Normalize numerical features for better model performance.  \n",
    "- **Model Evaluation:** Use Accuracy, Precision, Recall, and F1-Score for reliable evaluation.  \n",
    "\n",
    "---\n"
   ]
  },
  {
   "cell_type": "markdown",
   "metadata": {
    "id": "xziJJgZEDVDa"
   },
   "source": [
    "# **📂Data OverView**"
   ]
  },
  {
   "cell_type": "code",
   "execution_count": 75,
   "metadata": {
    "colab": {
     "base_uri": "https://localhost:8080/",
     "height": 0
    },
    "execution": {
     "iopub.execute_input": "2025-09-04T12:14:45.894193Z",
     "iopub.status.busy": "2025-09-04T12:14:45.893865Z",
     "iopub.status.idle": "2025-09-04T12:14:45.930369Z",
     "shell.execute_reply": "2025-09-04T12:14:45.929345Z",
     "shell.execute_reply.started": "2025-09-04T12:14:45.894161Z"
    },
    "id": "putTakAADSO4",
    "outputId": "8b5022c6-5b8f-4284-e0a4-8e858fba7b5b",
    "trusted": true
   },
   "outputs": [
    {
     "data": {
      "text/html": [
       "<div>\n",
       "<style scoped>\n",
       "    .dataframe tbody tr th:only-of-type {\n",
       "        vertical-align: middle;\n",
       "    }\n",
       "\n",
       "    .dataframe tbody tr th {\n",
       "        vertical-align: top;\n",
       "    }\n",
       "\n",
       "    .dataframe thead th {\n",
       "        text-align: right;\n",
       "    }\n",
       "</style>\n",
       "<table border=\"1\" class=\"dataframe\">\n",
       "  <thead>\n",
       "    <tr style=\"text-align: right;\">\n",
       "      <th></th>\n",
       "      <th>Blood_glucose</th>\n",
       "      <th>HbA1C</th>\n",
       "      <th>Systolic_BP</th>\n",
       "      <th>Diastolic_BP</th>\n",
       "      <th>LDL</th>\n",
       "      <th>HDL</th>\n",
       "      <th>Triglycerides</th>\n",
       "      <th>Haemoglobin</th>\n",
       "      <th>MCV</th>\n",
       "      <th>Condition</th>\n",
       "    </tr>\n",
       "  </thead>\n",
       "  <tbody>\n",
       "    <tr>\n",
       "      <th>0</th>\n",
       "      <td>107.38</td>\n",
       "      <td>4.93</td>\n",
       "      <td>109.25</td>\n",
       "      <td>74.10</td>\n",
       "      <td>129.20</td>\n",
       "      <td>52.11</td>\n",
       "      <td>68.84</td>\n",
       "      <td>10.17</td>\n",
       "      <td>61.54</td>\n",
       "      <td>Anemia</td>\n",
       "    </tr>\n",
       "    <tr>\n",
       "      <th>1</th>\n",
       "      <td>108.65</td>\n",
       "      <td>5.43</td>\n",
       "      <td>92.61</td>\n",
       "      <td>62.02</td>\n",
       "      <td>51.18</td>\n",
       "      <td>44.06</td>\n",
       "      <td>78.82</td>\n",
       "      <td>12.29</td>\n",
       "      <td>91.04</td>\n",
       "      <td>Fit</td>\n",
       "    </tr>\n",
       "    <tr>\n",
       "      <th>2</th>\n",
       "      <td>103.95</td>\n",
       "      <td>6.08</td>\n",
       "      <td>122.95</td>\n",
       "      <td>63.01</td>\n",
       "      <td>107.72</td>\n",
       "      <td>52.08</td>\n",
       "      <td>139.58</td>\n",
       "      <td>15.93</td>\n",
       "      <td>81.75</td>\n",
       "      <td>Fit</td>\n",
       "    </tr>\n",
       "    <tr>\n",
       "      <th>3</th>\n",
       "      <td>87.33</td>\n",
       "      <td>4.79</td>\n",
       "      <td>91.16</td>\n",
       "      <td>75.81</td>\n",
       "      <td>109.39</td>\n",
       "      <td>46.83</td>\n",
       "      <td>108.29</td>\n",
       "      <td>15.18</td>\n",
       "      <td>85.51</td>\n",
       "      <td>Fit</td>\n",
       "    </tr>\n",
       "    <tr>\n",
       "      <th>4</th>\n",
       "      <td>114.42</td>\n",
       "      <td>4.10</td>\n",
       "      <td>122.86</td>\n",
       "      <td>76.11</td>\n",
       "      <td>123.89</td>\n",
       "      <td>52.92</td>\n",
       "      <td>123.22</td>\n",
       "      <td>15.33</td>\n",
       "      <td>92.30</td>\n",
       "      <td>Fit</td>\n",
       "    </tr>\n",
       "  </tbody>\n",
       "</table>\n",
       "</div>"
      ],
      "text/plain": [
       "   Blood_glucose  HbA1C  Systolic_BP  Diastolic_BP     LDL    HDL  \\\n",
       "0         107.38   4.93       109.25         74.10  129.20  52.11   \n",
       "1         108.65   5.43        92.61         62.02   51.18  44.06   \n",
       "2         103.95   6.08       122.95         63.01  107.72  52.08   \n",
       "3          87.33   4.79        91.16         75.81  109.39  46.83   \n",
       "4         114.42   4.10       122.86         76.11  123.89  52.92   \n",
       "\n",
       "   Triglycerides  Haemoglobin    MCV Condition  \n",
       "0          68.84        10.17  61.54    Anemia  \n",
       "1          78.82        12.29  91.04       Fit  \n",
       "2         139.58        15.93  81.75       Fit  \n",
       "3         108.29        15.18  85.51       Fit  \n",
       "4         123.22        15.33  92.30       Fit  "
      ]
     },
     "execution_count": 75,
     "metadata": {},
     "output_type": "execute_result"
    }
   ],
   "source": [
    "df.head()"
   ]
  },
  {
   "cell_type": "code",
   "execution_count": 76,
   "metadata": {
    "colab": {
     "base_uri": "https://localhost:8080/"
    },
    "execution": {
     "iopub.execute_input": "2025-09-04T12:14:45.933414Z",
     "iopub.status.busy": "2025-09-04T12:14:45.933048Z",
     "iopub.status.idle": "2025-09-04T12:14:45.940703Z",
     "shell.execute_reply": "2025-09-04T12:14:45.939565Z",
     "shell.execute_reply.started": "2025-09-04T12:14:45.933387Z"
    },
    "id": "n6DpVRp0HASn",
    "outputId": "da416ec5-9699-4d8b-8c67-0af26235e22a",
    "trusted": true
   },
   "outputs": [
    {
     "data": {
      "text/plain": [
       "(25000, 10)"
      ]
     },
     "execution_count": 76,
     "metadata": {},
     "output_type": "execute_result"
    }
   ],
   "source": [
    "df.shape"
   ]
  },
  {
   "cell_type": "code",
   "execution_count": 77,
   "metadata": {
    "colab": {
     "base_uri": "https://localhost:8080/"
    },
    "execution": {
     "iopub.execute_input": "2025-09-04T12:14:45.942125Z",
     "iopub.status.busy": "2025-09-04T12:14:45.941867Z",
     "iopub.status.idle": "2025-09-04T12:14:45.964385Z",
     "shell.execute_reply": "2025-09-04T12:14:45.963347Z",
     "shell.execute_reply.started": "2025-09-04T12:14:45.942104Z"
    },
    "id": "2p9xIHp0DSMf",
    "outputId": "5269bd81-d51c-4410-8cfc-2196a60a1167",
    "trusted": true
   },
   "outputs": [
    {
     "data": {
      "text/plain": [
       "Index(['Blood_glucose', 'HbA1C', 'Systolic_BP', 'Diastolic_BP', 'LDL', 'HDL',\n",
       "       'Triglycerides', 'Haemoglobin', 'MCV', 'Condition'],\n",
       "      dtype='object')"
      ]
     },
     "execution_count": 77,
     "metadata": {},
     "output_type": "execute_result"
    }
   ],
   "source": [
    "df.columns"
   ]
  },
  {
   "cell_type": "code",
   "execution_count": 78,
   "metadata": {
    "colab": {
     "base_uri": "https://localhost:8080/"
    },
    "execution": {
     "iopub.execute_input": "2025-09-04T12:14:45.965531Z",
     "iopub.status.busy": "2025-09-04T12:14:45.965206Z",
     "iopub.status.idle": "2025-09-04T12:14:46.010309Z",
     "shell.execute_reply": "2025-09-04T12:14:46.009207Z",
     "shell.execute_reply.started": "2025-09-04T12:14:45.965501Z"
    },
    "id": "FqRLblybDSJ9",
    "outputId": "4ff5a5cd-7d18-4f47-8812-6ce0cf13f1ae",
    "trusted": true
   },
   "outputs": [
    {
     "name": "stdout",
     "output_type": "stream",
     "text": [
      "<class 'pandas.core.frame.DataFrame'>\n",
      "RangeIndex: 25000 entries, 0 to 24999\n",
      "Data columns (total 10 columns):\n",
      " #   Column         Non-Null Count  Dtype  \n",
      "---  ------         --------------  -----  \n",
      " 0   Blood_glucose  24838 non-null  float64\n",
      " 1   HbA1C          24838 non-null  float64\n",
      " 2   Systolic_BP    24838 non-null  float64\n",
      " 3   Diastolic_BP   24838 non-null  float64\n",
      " 4   LDL            24838 non-null  float64\n",
      " 5   HDL            24838 non-null  float64\n",
      " 6   Triglycerides  24838 non-null  float64\n",
      " 7   Haemoglobin    24838 non-null  float64\n",
      " 8   MCV            24838 non-null  float64\n",
      " 9   Condition      25000 non-null  object \n",
      "dtypes: float64(9), object(1)\n",
      "memory usage: 1.9+ MB\n"
     ]
    }
   ],
   "source": [
    "df.info()"
   ]
  },
  {
   "cell_type": "code",
   "execution_count": 79,
   "metadata": {
    "colab": {
     "base_uri": "https://localhost:8080/",
     "height": 0
    },
    "execution": {
     "iopub.execute_input": "2025-09-04T12:14:46.011788Z",
     "iopub.status.busy": "2025-09-04T12:14:46.011451Z",
     "iopub.status.idle": "2025-09-04T12:14:46.023136Z",
     "shell.execute_reply": "2025-09-04T12:14:46.022089Z",
     "shell.execute_reply.started": "2025-09-04T12:14:46.011752Z"
    },
    "id": "uzM4XDbQDSHI",
    "outputId": "42a0636a-1efa-4e49-88f1-d00fbcd2f7cf",
    "trusted": true
   },
   "outputs": [
    {
     "data": {
      "text/plain": [
       "Blood_glucose    162\n",
       "HbA1C            162\n",
       "Systolic_BP      162\n",
       "Diastolic_BP     162\n",
       "LDL              162\n",
       "HDL              162\n",
       "Triglycerides    162\n",
       "Haemoglobin      162\n",
       "MCV              162\n",
       "Condition          0\n",
       "dtype: int64"
      ]
     },
     "execution_count": 79,
     "metadata": {},
     "output_type": "execute_result"
    }
   ],
   "source": [
    "df.isnull().sum()"
   ]
  },
  {
   "cell_type": "code",
   "execution_count": 80,
   "metadata": {},
   "outputs": [
    {
     "data": {
      "text/plain": [
       "0"
      ]
     },
     "execution_count": 80,
     "metadata": {},
     "output_type": "execute_result"
    }
   ],
   "source": [
    "df.duplicated().sum()"
   ]
  },
  {
   "cell_type": "code",
   "execution_count": 81,
   "metadata": {
    "colab": {
     "base_uri": "https://localhost:8080/"
    },
    "execution": {
     "iopub.execute_input": "2025-09-04T12:14:46.056689Z",
     "iopub.status.busy": "2025-09-04T12:14:46.056212Z",
     "iopub.status.idle": "2025-09-04T12:14:46.070842Z",
     "shell.execute_reply": "2025-09-04T12:14:46.069637Z",
     "shell.execute_reply.started": "2025-09-04T12:14:46.056651Z"
    },
    "id": "YNaZGeZ-DSBk",
    "outputId": "9fd9e531-e211-40d1-d459-4829ab3be2a7",
    "trusted": true
   },
   "outputs": [
    {
     "name": "stdout",
     "output_type": "stream",
     "text": [
      "Unique :  ['Anemia' 'Fit' 'Hypertension' 'Diabetes' 'High_Cholesterol']\n",
      "------------------------------\n",
      "Number Of Unique :  5\n",
      "------------------------------\n",
      "Value_Counts : \n",
      "Condition\n",
      "Fit                 18000\n",
      "Diabetes             3052\n",
      "Hypertension         1757\n",
      "High_Cholesterol     1323\n",
      "Anemia                868\n",
      "Name: count, dtype: int64\n",
      "------------------------------\n"
     ]
    }
   ],
   "source": [
    "print('Unique : ',df.Condition.unique())\n",
    "print('------------------------------')\n",
    "print('Number Of Unique : ' , df.Condition.nunique())\n",
    "print('------------------------------')\n",
    "print('Value_Counts : ')\n",
    "print(df.Condition.value_counts())\n",
    "print('------------------------------')"
   ]
  },
  {
   "cell_type": "markdown",
   "metadata": {
    "id": "CGhrKiryP3Qy"
   },
   "source": [
    "\n",
    "\n",
    "---\n",
    "\n"
   ]
  },
  {
   "cell_type": "markdown",
   "metadata": {
    "id": "OKnvVlP7QIzF"
   },
   "source": [
    "# **👀Clean Data**"
   ]
  },
  {
   "cell_type": "code",
   "execution_count": 82,
   "metadata": {
    "execution": {
     "iopub.execute_input": "2025-09-04T12:14:46.074584Z",
     "iopub.status.busy": "2025-09-04T12:14:46.074145Z",
     "iopub.status.idle": "2025-09-04T12:14:46.110372Z",
     "shell.execute_reply": "2025-09-04T12:14:46.109489Z",
     "shell.execute_reply.started": "2025-09-04T12:14:46.074551Z"
    },
    "id": "PYea44VGDR-_",
    "trusted": true
   },
   "outputs": [],
   "source": [
    "df.dropna(inplace =True)"
   ]
  },
  {
   "cell_type": "code",
   "execution_count": 83,
   "metadata": {
    "execution": {
     "iopub.execute_input": "2025-09-04T12:14:46.168820Z",
     "iopub.status.busy": "2025-09-04T12:14:46.168495Z",
     "iopub.status.idle": "2025-09-04T12:14:46.189722Z",
     "shell.execute_reply": "2025-09-04T12:14:46.188679Z",
     "shell.execute_reply.started": "2025-09-04T12:14:46.168784Z"
    },
    "id": "T_JMy-6ODR0p",
    "trusted": true
   },
   "outputs": [],
   "source": [
    "df.columns = df.columns.str.lower()"
   ]
  },
  {
   "cell_type": "code",
   "execution_count": 84,
   "metadata": {
    "colab": {
     "base_uri": "https://localhost:8080/"
    },
    "execution": {
     "iopub.execute_input": "2025-09-04T12:14:46.190840Z",
     "iopub.status.busy": "2025-09-04T12:14:46.190590Z",
     "iopub.status.idle": "2025-09-04T12:14:46.213188Z",
     "shell.execute_reply": "2025-09-04T12:14:46.212234Z",
     "shell.execute_reply.started": "2025-09-04T12:14:46.190823Z"
    },
    "id": "pTnkJd8oDRyH",
    "outputId": "7615979c-dae5-46df-e396-2b968b0beb46",
    "trusted": true
   },
   "outputs": [
    {
     "data": {
      "text/plain": [
       "Index(['blood_glucose', 'hba1c', 'systolic_bp', 'diastolic_bp', 'ldl', 'hdl',\n",
       "       'triglycerides', 'haemoglobin', 'mcv', 'condition'],\n",
       "      dtype='object')"
      ]
     },
     "execution_count": 84,
     "metadata": {},
     "output_type": "execute_result"
    }
   ],
   "source": [
    "df.columns"
   ]
  },
  {
   "cell_type": "code",
   "execution_count": 85,
   "metadata": {
    "colab": {
     "base_uri": "https://localhost:8080/",
     "height": 0
    },
    "execution": {
     "iopub.execute_input": "2025-09-04T12:14:46.214110Z",
     "iopub.status.busy": "2025-09-04T12:14:46.213862Z",
     "iopub.status.idle": "2025-09-04T12:14:46.245099Z",
     "shell.execute_reply": "2025-09-04T12:14:46.243619Z",
     "shell.execute_reply.started": "2025-09-04T12:14:46.214090Z"
    },
    "id": "bpTPBP5ER3m3",
    "outputId": "d4bc319a-8880-4c9f-e026-4403ec406313",
    "trusted": true
   },
   "outputs": [
    {
     "data": {
      "text/html": [
       "<div>\n",
       "<style scoped>\n",
       "    .dataframe tbody tr th:only-of-type {\n",
       "        vertical-align: middle;\n",
       "    }\n",
       "\n",
       "    .dataframe tbody tr th {\n",
       "        vertical-align: top;\n",
       "    }\n",
       "\n",
       "    .dataframe thead th {\n",
       "        text-align: right;\n",
       "    }\n",
       "</style>\n",
       "<table border=\"1\" class=\"dataframe\">\n",
       "  <thead>\n",
       "    <tr style=\"text-align: right;\">\n",
       "      <th></th>\n",
       "      <th>blood_glucose</th>\n",
       "      <th>hba1c</th>\n",
       "      <th>systolic_bp</th>\n",
       "      <th>diastolic_bp</th>\n",
       "      <th>ldl</th>\n",
       "      <th>hdl</th>\n",
       "      <th>triglycerides</th>\n",
       "      <th>haemoglobin</th>\n",
       "      <th>mcv</th>\n",
       "      <th>condition</th>\n",
       "    </tr>\n",
       "  </thead>\n",
       "  <tbody>\n",
       "    <tr>\n",
       "      <th>0</th>\n",
       "      <td>107.38</td>\n",
       "      <td>4.93</td>\n",
       "      <td>109.25</td>\n",
       "      <td>74.10</td>\n",
       "      <td>129.20</td>\n",
       "      <td>52.11</td>\n",
       "      <td>68.84</td>\n",
       "      <td>10.17</td>\n",
       "      <td>61.54</td>\n",
       "      <td>Anemia</td>\n",
       "    </tr>\n",
       "    <tr>\n",
       "      <th>1</th>\n",
       "      <td>108.65</td>\n",
       "      <td>5.43</td>\n",
       "      <td>92.61</td>\n",
       "      <td>62.02</td>\n",
       "      <td>51.18</td>\n",
       "      <td>44.06</td>\n",
       "      <td>78.82</td>\n",
       "      <td>12.29</td>\n",
       "      <td>91.04</td>\n",
       "      <td>Fit</td>\n",
       "    </tr>\n",
       "    <tr>\n",
       "      <th>2</th>\n",
       "      <td>103.95</td>\n",
       "      <td>6.08</td>\n",
       "      <td>122.95</td>\n",
       "      <td>63.01</td>\n",
       "      <td>107.72</td>\n",
       "      <td>52.08</td>\n",
       "      <td>139.58</td>\n",
       "      <td>15.93</td>\n",
       "      <td>81.75</td>\n",
       "      <td>Fit</td>\n",
       "    </tr>\n",
       "    <tr>\n",
       "      <th>3</th>\n",
       "      <td>87.33</td>\n",
       "      <td>4.79</td>\n",
       "      <td>91.16</td>\n",
       "      <td>75.81</td>\n",
       "      <td>109.39</td>\n",
       "      <td>46.83</td>\n",
       "      <td>108.29</td>\n",
       "      <td>15.18</td>\n",
       "      <td>85.51</td>\n",
       "      <td>Fit</td>\n",
       "    </tr>\n",
       "    <tr>\n",
       "      <th>4</th>\n",
       "      <td>114.42</td>\n",
       "      <td>4.10</td>\n",
       "      <td>122.86</td>\n",
       "      <td>76.11</td>\n",
       "      <td>123.89</td>\n",
       "      <td>52.92</td>\n",
       "      <td>123.22</td>\n",
       "      <td>15.33</td>\n",
       "      <td>92.30</td>\n",
       "      <td>Fit</td>\n",
       "    </tr>\n",
       "  </tbody>\n",
       "</table>\n",
       "</div>"
      ],
      "text/plain": [
       "   blood_glucose  hba1c  systolic_bp  diastolic_bp     ldl    hdl  \\\n",
       "0         107.38   4.93       109.25         74.10  129.20  52.11   \n",
       "1         108.65   5.43        92.61         62.02   51.18  44.06   \n",
       "2         103.95   6.08       122.95         63.01  107.72  52.08   \n",
       "3          87.33   4.79        91.16         75.81  109.39  46.83   \n",
       "4         114.42   4.10       122.86         76.11  123.89  52.92   \n",
       "\n",
       "   triglycerides  haemoglobin    mcv condition  \n",
       "0          68.84        10.17  61.54    Anemia  \n",
       "1          78.82        12.29  91.04       Fit  \n",
       "2         139.58        15.93  81.75       Fit  \n",
       "3         108.29        15.18  85.51       Fit  \n",
       "4         123.22        15.33  92.30       Fit  "
      ]
     },
     "execution_count": 85,
     "metadata": {},
     "output_type": "execute_result"
    }
   ],
   "source": [
    "df.head()"
   ]
  },
  {
   "cell_type": "markdown",
   "metadata": {
    "id": "-SKXUW2jTBVD"
   },
   "source": [
    "\n",
    "\n",
    "---\n",
    "\n"
   ]
  },
  {
   "cell_type": "markdown",
   "metadata": {
    "id": "BcgM5UlsTCt3"
   },
   "source": [
    "# **📊EDA**"
   ]
  },
  {
   "cell_type": "markdown",
   "metadata": {
    "id": "Vqa4Kj9ETKow"
   },
   "source": [
    " - Distribution\n",
    " - Descriptive Statistics\n",
    " - Bivariate & Multivariate Analysis"
   ]
  },
  {
   "cell_type": "markdown",
   "metadata": {
    "id": "X12vBKtFW3Cd"
   },
   "source": [
    "## **➡Distribution**"
   ]
  },
  {
   "cell_type": "code",
   "execution_count": 86,
   "metadata": {
    "colab": {
     "base_uri": "https://localhost:8080/",
     "height": 0
    },
    "execution": {
     "iopub.execute_input": "2025-09-04T12:14:46.246412Z",
     "iopub.status.busy": "2025-09-04T12:14:46.246101Z",
     "iopub.status.idle": "2025-09-04T12:14:50.310634Z",
     "shell.execute_reply": "2025-09-04T12:14:50.309489Z",
     "shell.execute_reply.started": "2025-09-04T12:14:46.246388Z"
    },
    "id": "zBaAeov3DRv0",
    "outputId": "e8ee3d9b-ea93-4c09-c741-bd776ff804a2",
    "trusted": true
   },
   "outputs": [
    {
     "data": {
      "image/png": "[encoded data removed]",
      "text/plain": [
       "<Figure size 1600x1000 with 9 Axes>"
      ]
     },
     "metadata": {},
     "output_type": "display_data"
    }
   ],
   "source": [
    "row, cols = 3 , 3\n",
    "n = 9\n",
    "\n",
    "fig , axes = plt.subplots(row,cols , figsize=(16 ,10))\n",
    "axes = axes.flatten()\n",
    "data_num = df.drop(['condition']  , axis =1)\n",
    "for i , col in enumerate(data_num.columns) :\n",
    "  sns.histplot(data_num[col] , kde = True , ax = axes[i])\n",
    "  plt.title(f'Histogram of {col}')\n",
    "\n",
    "# for j in range(n , row*cols) :\n",
    "#   fig.delaxes(axes[j])\n",
    "\n",
    "plt.tight_layout()"
   ]
  },
  {
   "cell_type": "markdown",
   "metadata": {
    "id": "qw7LYax0VRLf"
   },
   "source": [
    "**Data Distribution Analysis (Histograms)**\n",
    "\n",
    "The dataset includes 9 medical test results.  \n",
    "Below is the interpretation of the histograms for each feature:\n",
    "\n",
    "---\n",
    "\n",
    "**1. Blood Glucose**\n",
    "- Most values fall between **80 – 120** (normal range).  \n",
    "- A tail extends up to ~200 → represents **diabetes cases**.  \n",
    "\n",
    "---\n",
    "\n",
    "**2. HbA1C**\n",
    "- Majority are within **4.5 – 6** (normal).  \n",
    "- A smaller portion above **6.5 – 9** → indicates **chronic diabetes**.  \n",
    "\n",
    "---\n",
    "\n",
    "**3. Systolic Blood Pressure**\n",
    "- Most values are between **100 – 130** (normal to slightly elevated).  \n",
    "- Values above **140 – 180** → correspond to **hypertension cases**.  \n",
    "\n",
    "---\n",
    "\n",
    "**4. Diastolic Blood Pressure**\n",
    "- Concentrated between **60 – 80** (normal range).  \n",
    "- Higher values **90 – 110** → signal **hypertension**.  \n",
    "\n",
    "---\n",
    "\n",
    "**5. LDL (Bad Cholesterol)**\n",
    "- Majority between **80 – 130** (near normal).  \n",
    "- Values above **150 – 250** → indicate **high cholesterol**.  \n",
    "\n",
    "---\n",
    "\n",
    "**6. HDL (Good Cholesterol)**\n",
    "- Most values range **40 – 55** (healthy range).  \n",
    "- Very few cases below **35** → risk for **heart disease**.  \n",
    "\n",
    "---\n",
    "\n",
    "**7. Triglycerides**\n",
    "- Mostly between **80 – 150** (normal).  \n",
    "- Outliers **200 – 500** → severe **hypertriglyceridemia**.  \n",
    "\n",
    "---\n",
    "\n",
    "**8. Haemoglobin**\n",
    "- Majority fall within **12 – 15** (normal for adults).  \n",
    "- Low values **< 11** → represent **anemia**.  \n",
    "\n",
    "---\n",
    "\n",
    "**9. MCV (Mean Corpuscular Volume)**\n",
    "- Most patients fall within **80 – 95** (normal range).  \n",
    "- Some cases below **75** → suggest **microcytic anemia**.  \n",
    "\n",
    "---\n",
    "\n",
    "**Summary**\n",
    "- The majority of individuals in the dataset fall within **normal health ranges** (Fit).  \n",
    "- Clear **outliers** exist at the tails of the distributions, which correspond to different conditions:  \n",
    "  - **Diabetes** → High Glucose & HbA1C.  \n",
    "  - **Hypertension** → High Systolic & Diastolic BP.  \n",
    "  - **High Cholesterol** → Elevated LDL & Triglycerides.  \n",
    "  - **Anemia** → Low Haemoglobin & MCV.  \n",
    "\n",
    "This confirms that the dataset is **well-structured for classification tasks** across multiple diseases.\n"
   ]
  },
  {
   "cell_type": "markdown",
   "metadata": {
    "id": "KlOu6zNuWSvQ"
   },
   "source": [
    "***↪ `That means you need a model that can handle outliers well.`***"
   ]
  },
  {
   "cell_type": "markdown",
   "metadata": {},
   "source": [
    "---"
   ]
  },
  {
   "cell_type": "markdown",
   "metadata": {
    "id": "iWUVbn4-WuYk"
   },
   "source": [
    "## **➡Descriptive Statistics**"
   ]
  },
  {
   "cell_type": "code",
   "execution_count": 87,
   "metadata": {
    "colab": {
     "base_uri": "https://localhost:8080/",
     "height": 0
    },
    "execution": {
     "iopub.execute_input": "2025-09-04T12:14:50.312103Z",
     "iopub.status.busy": "2025-09-04T12:14:50.311781Z",
     "iopub.status.idle": "2025-09-04T12:14:50.358383Z",
     "shell.execute_reply": "2025-09-04T12:14:50.357393Z",
     "shell.execute_reply.started": "2025-09-04T12:14:50.312077Z"
    },
    "id": "El7OUOxRTiEn",
    "outputId": "5654135c-6642-4760-e8f6-b96392d7066f",
    "trusted": true
   },
   "outputs": [
    {
     "data": {
      "text/html": [
       "<div>\n",
       "<style scoped>\n",
       "    .dataframe tbody tr th:only-of-type {\n",
       "        vertical-align: middle;\n",
       "    }\n",
       "\n",
       "    .dataframe tbody tr th {\n",
       "        vertical-align: top;\n",
       "    }\n",
       "\n",
       "    .dataframe thead th {\n",
       "        text-align: right;\n",
       "    }\n",
       "</style>\n",
       "<table border=\"1\" class=\"dataframe\">\n",
       "  <thead>\n",
       "    <tr style=\"text-align: right;\">\n",
       "      <th></th>\n",
       "      <th>blood_glucose</th>\n",
       "      <th>hba1c</th>\n",
       "      <th>systolic_bp</th>\n",
       "      <th>diastolic_bp</th>\n",
       "      <th>ldl</th>\n",
       "      <th>hdl</th>\n",
       "      <th>triglycerides</th>\n",
       "      <th>haemoglobin</th>\n",
       "      <th>mcv</th>\n",
       "    </tr>\n",
       "  </thead>\n",
       "  <tbody>\n",
       "    <tr>\n",
       "      <th>count</th>\n",
       "      <td>23574.000000</td>\n",
       "      <td>23574.000000</td>\n",
       "      <td>23574.000000</td>\n",
       "      <td>23574.000000</td>\n",
       "      <td>23574.000000</td>\n",
       "      <td>23574.000000</td>\n",
       "      <td>23574.000000</td>\n",
       "      <td>23574.000000</td>\n",
       "      <td>23574.000000</td>\n",
       "    </tr>\n",
       "    <tr>\n",
       "      <th>mean</th>\n",
       "      <td>102.801087</td>\n",
       "      <td>5.513664</td>\n",
       "      <td>112.771517</td>\n",
       "      <td>72.137460</td>\n",
       "      <td>100.392235</td>\n",
       "      <td>48.871107</td>\n",
       "      <td>126.529092</td>\n",
       "      <td>13.809347</td>\n",
       "      <td>87.342286</td>\n",
       "    </tr>\n",
       "    <tr>\n",
       "      <th>std</th>\n",
       "      <td>26.716975</td>\n",
       "      <td>1.090884</td>\n",
       "      <td>16.440514</td>\n",
       "      <td>9.639635</td>\n",
       "      <td>34.885754</td>\n",
       "      <td>7.381829</td>\n",
       "      <td>66.142010</td>\n",
       "      <td>1.532609</td>\n",
       "      <td>5.752625</td>\n",
       "    </tr>\n",
       "    <tr>\n",
       "      <th>min</th>\n",
       "      <td>70.010000</td>\n",
       "      <td>4.000000</td>\n",
       "      <td>90.000000</td>\n",
       "      <td>60.000000</td>\n",
       "      <td>50.000000</td>\n",
       "      <td>20.050000</td>\n",
       "      <td>50.010000</td>\n",
       "      <td>6.000000</td>\n",
       "      <td>60.000000</td>\n",
       "    </tr>\n",
       "    <tr>\n",
       "      <th>25%</th>\n",
       "      <td>84.190000</td>\n",
       "      <td>4.680000</td>\n",
       "      <td>100.562500</td>\n",
       "      <td>65.420000</td>\n",
       "      <td>73.650000</td>\n",
       "      <td>44.050000</td>\n",
       "      <td>83.790000</td>\n",
       "      <td>12.890000</td>\n",
       "      <td>83.510000</td>\n",
       "    </tr>\n",
       "    <tr>\n",
       "      <th>50%</th>\n",
       "      <td>98.330000</td>\n",
       "      <td>5.360000</td>\n",
       "      <td>111.060000</td>\n",
       "      <td>70.760000</td>\n",
       "      <td>97.440000</td>\n",
       "      <td>49.390000</td>\n",
       "      <td>117.805000</td>\n",
       "      <td>13.930000</td>\n",
       "      <td>87.690000</td>\n",
       "    </tr>\n",
       "    <tr>\n",
       "      <th>75%</th>\n",
       "      <td>111.850000</td>\n",
       "      <td>6.060000</td>\n",
       "      <td>121.437500</td>\n",
       "      <td>76.100000</td>\n",
       "      <td>121.080000</td>\n",
       "      <td>54.750000</td>\n",
       "      <td>152.050000</td>\n",
       "      <td>14.960000</td>\n",
       "      <td>91.820000</td>\n",
       "    </tr>\n",
       "    <tr>\n",
       "      <th>max</th>\n",
       "      <td>199.950000</td>\n",
       "      <td>9.000000</td>\n",
       "      <td>179.990000</td>\n",
       "      <td>109.980000</td>\n",
       "      <td>250.000000</td>\n",
       "      <td>60.000000</td>\n",
       "      <td>499.800000</td>\n",
       "      <td>16.000000</td>\n",
       "      <td>96.000000</td>\n",
       "    </tr>\n",
       "  </tbody>\n",
       "</table>\n",
       "</div>"
      ],
      "text/plain": [
       "       blood_glucose         hba1c   systolic_bp  diastolic_bp           ldl  \\\n",
       "count   23574.000000  23574.000000  23574.000000  23574.000000  23574.000000   \n",
       "mean      102.801087      5.513664    112.771517     72.137460    100.392235   \n",
       "std        26.716975      1.090884     16.440514      9.639635     34.885754   \n",
       "min        70.010000      4.000000     90.000000     60.000000     50.000000   \n",
       "25%        84.190000      4.680000    100.562500     65.420000     73.650000   \n",
       "50%        98.330000      5.360000    111.060000     70.760000     97.440000   \n",
       "75%       111.850000      6.060000    121.437500     76.100000    121.080000   \n",
       "max       199.950000      9.000000    179.990000    109.980000    250.000000   \n",
       "\n",
       "                hdl  triglycerides   haemoglobin           mcv  \n",
       "count  23574.000000   23574.000000  23574.000000  23574.000000  \n",
       "mean      48.871107     126.529092     13.809347     87.342286  \n",
       "std        7.381829      66.142010      1.532609      5.752625  \n",
       "min       20.050000      50.010000      6.000000     60.000000  \n",
       "25%       44.050000      83.790000     12.890000     83.510000  \n",
       "50%       49.390000     117.805000     13.930000     87.690000  \n",
       "75%       54.750000     152.050000     14.960000     91.820000  \n",
       "max       60.000000     499.800000     16.000000     96.000000  "
      ]
     },
     "execution_count": 87,
     "metadata": {},
     "output_type": "execute_result"
    }
   ],
   "source": [
    "df.describe()"
   ]
  },
  {
   "cell_type": "markdown",
   "metadata": {
    "id": "UOoRes2EYb0C"
   },
   "source": [
    " - [triglycerides , ldl ] ➡ Have **Strong** Outlier\n",
    " - [blood_glucose\t]       ➡ Have **Mediam** Outlier\n",
    " - [systolic_bp\t]         ➡ Have **Low** Outlier\n",
    "\n",
    " ***↪ `That means we will shoud deal with outlier.`***"
   ]
  },
  {
   "cell_type": "markdown",
   "metadata": {
    "id": "Tp9qYRe0aLOj"
   },
   "source": [
    "**➡Bivariate & Multivariate Analysis**"
   ]
  },
  {
   "cell_type": "code",
   "execution_count": 88,
   "metadata": {
    "colab": {
     "base_uri": "https://localhost:8080/",
     "height": 0
    },
    "execution": {
     "iopub.execute_input": "2025-09-04T12:14:50.359760Z",
     "iopub.status.busy": "2025-09-04T12:14:50.359506Z",
     "iopub.status.idle": "2025-09-04T12:14:50.384450Z",
     "shell.execute_reply": "2025-09-04T12:14:50.383299Z",
     "shell.execute_reply.started": "2025-09-04T12:14:50.359741Z"
    },
    "id": "PWk5OZp4XVxn",
    "outputId": "fe0a7243-0c69-4ce3-e3eb-88f080b613a1",
    "trusted": true
   },
   "outputs": [
    {
     "data": {
      "text/html": [
       "<div>\n",
       "<style scoped>\n",
       "    .dataframe tbody tr th:only-of-type {\n",
       "        vertical-align: middle;\n",
       "    }\n",
       "\n",
       "    .dataframe tbody tr th {\n",
       "        vertical-align: top;\n",
       "    }\n",
       "\n",
       "    .dataframe thead th {\n",
       "        text-align: right;\n",
       "    }\n",
       "</style>\n",
       "<table border=\"1\" class=\"dataframe\">\n",
       "  <thead>\n",
       "    <tr style=\"text-align: right;\">\n",
       "      <th></th>\n",
       "      <th>blood_glucose</th>\n",
       "      <th>hba1c</th>\n",
       "      <th>systolic_bp</th>\n",
       "      <th>diastolic_bp</th>\n",
       "      <th>ldl</th>\n",
       "      <th>hdl</th>\n",
       "      <th>triglycerides</th>\n",
       "      <th>haemoglobin</th>\n",
       "      <th>mcv</th>\n",
       "    </tr>\n",
       "  </thead>\n",
       "  <tbody>\n",
       "    <tr>\n",
       "      <th>blood_glucose</th>\n",
       "      <td>1.000000</td>\n",
       "      <td>0.622310</td>\n",
       "      <td>-0.058344</td>\n",
       "      <td>-0.071828</td>\n",
       "      <td>-0.049629</td>\n",
       "      <td>0.052606</td>\n",
       "      <td>-0.058514</td>\n",
       "      <td>0.036309</td>\n",
       "      <td>0.031640</td>\n",
       "    </tr>\n",
       "    <tr>\n",
       "      <th>hba1c</th>\n",
       "      <td>0.622310</td>\n",
       "      <td>1.000000</td>\n",
       "      <td>-0.055271</td>\n",
       "      <td>-0.061276</td>\n",
       "      <td>-0.039636</td>\n",
       "      <td>0.043368</td>\n",
       "      <td>-0.052468</td>\n",
       "      <td>0.044506</td>\n",
       "      <td>0.034386</td>\n",
       "    </tr>\n",
       "    <tr>\n",
       "      <th>systolic_bp</th>\n",
       "      <td>-0.058344</td>\n",
       "      <td>-0.055271</td>\n",
       "      <td>1.000000</td>\n",
       "      <td>0.575616</td>\n",
       "      <td>-0.035759</td>\n",
       "      <td>0.030866</td>\n",
       "      <td>-0.040228</td>\n",
       "      <td>0.020086</td>\n",
       "      <td>0.018887</td>\n",
       "    </tr>\n",
       "    <tr>\n",
       "      <th>diastolic_bp</th>\n",
       "      <td>-0.071828</td>\n",
       "      <td>-0.061276</td>\n",
       "      <td>0.575616</td>\n",
       "      <td>1.000000</td>\n",
       "      <td>-0.038200</td>\n",
       "      <td>0.034082</td>\n",
       "      <td>-0.046888</td>\n",
       "      <td>0.021704</td>\n",
       "      <td>0.019394</td>\n",
       "    </tr>\n",
       "    <tr>\n",
       "      <th>ldl</th>\n",
       "      <td>-0.049629</td>\n",
       "      <td>-0.039636</td>\n",
       "      <td>-0.035759</td>\n",
       "      <td>-0.038200</td>\n",
       "      <td>1.000000</td>\n",
       "      <td>-0.406839</td>\n",
       "      <td>0.501081</td>\n",
       "      <td>0.016598</td>\n",
       "      <td>0.029323</td>\n",
       "    </tr>\n",
       "    <tr>\n",
       "      <th>hdl</th>\n",
       "      <td>0.052606</td>\n",
       "      <td>0.043368</td>\n",
       "      <td>0.030866</td>\n",
       "      <td>0.034082</td>\n",
       "      <td>-0.406839</td>\n",
       "      <td>1.000000</td>\n",
       "      <td>-0.484943</td>\n",
       "      <td>-0.020414</td>\n",
       "      <td>-0.011386</td>\n",
       "    </tr>\n",
       "    <tr>\n",
       "      <th>triglycerides</th>\n",
       "      <td>-0.058514</td>\n",
       "      <td>-0.052468</td>\n",
       "      <td>-0.040228</td>\n",
       "      <td>-0.046888</td>\n",
       "      <td>0.501081</td>\n",
       "      <td>-0.484943</td>\n",
       "      <td>1.000000</td>\n",
       "      <td>0.025364</td>\n",
       "      <td>0.026163</td>\n",
       "    </tr>\n",
       "    <tr>\n",
       "      <th>haemoglobin</th>\n",
       "      <td>0.036309</td>\n",
       "      <td>0.044506</td>\n",
       "      <td>0.020086</td>\n",
       "      <td>0.021704</td>\n",
       "      <td>0.016598</td>\n",
       "      <td>-0.020414</td>\n",
       "      <td>0.025364</td>\n",
       "      <td>1.000000</td>\n",
       "      <td>0.383464</td>\n",
       "    </tr>\n",
       "    <tr>\n",
       "      <th>mcv</th>\n",
       "      <td>0.031640</td>\n",
       "      <td>0.034386</td>\n",
       "      <td>0.018887</td>\n",
       "      <td>0.019394</td>\n",
       "      <td>0.029323</td>\n",
       "      <td>-0.011386</td>\n",
       "      <td>0.026163</td>\n",
       "      <td>0.383464</td>\n",
       "      <td>1.000000</td>\n",
       "    </tr>\n",
       "  </tbody>\n",
       "</table>\n",
       "</div>"
      ],
      "text/plain": [
       "               blood_glucose     hba1c  systolic_bp  diastolic_bp       ldl  \\\n",
       "blood_glucose       1.000000  0.622310    -0.058344     -0.071828 -0.049629   \n",
       "hba1c               0.622310  1.000000    -0.055271     -0.061276 -0.039636   \n",
       "systolic_bp        -0.058344 -0.055271     1.000000      0.575616 -0.035759   \n",
       "diastolic_bp       -0.071828 -0.061276     0.575616      1.000000 -0.038200   \n",
       "ldl                -0.049629 -0.039636    -0.035759     -0.038200  1.000000   \n",
       "hdl                 0.052606  0.043368     0.030866      0.034082 -0.406839   \n",
       "triglycerides      -0.058514 -0.052468    -0.040228     -0.046888  0.501081   \n",
       "haemoglobin         0.036309  0.044506     0.020086      0.021704  0.016598   \n",
       "mcv                 0.031640  0.034386     0.018887      0.019394  0.029323   \n",
       "\n",
       "                    hdl  triglycerides  haemoglobin       mcv  \n",
       "blood_glucose  0.052606      -0.058514     0.036309  0.031640  \n",
       "hba1c          0.043368      -0.052468     0.044506  0.034386  \n",
       "systolic_bp    0.030866      -0.040228     0.020086  0.018887  \n",
       "diastolic_bp   0.034082      -0.046888     0.021704  0.019394  \n",
       "ldl           -0.406839       0.501081     0.016598  0.029323  \n",
       "hdl            1.000000      -0.484943    -0.020414 -0.011386  \n",
       "triglycerides -0.484943       1.000000     0.025364  0.026163  \n",
       "haemoglobin   -0.020414       0.025364     1.000000  0.383464  \n",
       "mcv           -0.011386       0.026163     0.383464  1.000000  "
      ]
     },
     "execution_count": 88,
     "metadata": {},
     "output_type": "execute_result"
    }
   ],
   "source": [
    "df.drop('condition' , axis = 1).corr()\n"
   ]
  },
  {
   "cell_type": "code",
   "execution_count": 89,
   "metadata": {
    "colab": {
     "base_uri": "https://localhost:8080/",
     "height": 0
    },
    "execution": {
     "iopub.execute_input": "2025-09-04T12:14:50.385478Z",
     "iopub.status.busy": "2025-09-04T12:14:50.385194Z",
     "iopub.status.idle": "2025-09-04T12:14:50.402460Z",
     "shell.execute_reply": "2025-09-04T12:14:50.401370Z",
     "shell.execute_reply.started": "2025-09-04T12:14:50.385458Z"
    },
    "id": "n1S-Sl6lm8gp",
    "outputId": "1cbed067-4500-46ff-c450-670eab649838",
    "trusted": true
   },
   "outputs": [
    {
     "data": {
      "text/html": [
       "<div>\n",
       "<style scoped>\n",
       "    .dataframe tbody tr th:only-of-type {\n",
       "        vertical-align: middle;\n",
       "    }\n",
       "\n",
       "    .dataframe tbody tr th {\n",
       "        vertical-align: top;\n",
       "    }\n",
       "\n",
       "    .dataframe thead th {\n",
       "        text-align: right;\n",
       "    }\n",
       "</style>\n",
       "<table border=\"1\" class=\"dataframe\">\n",
       "  <thead>\n",
       "    <tr style=\"text-align: right;\">\n",
       "      <th></th>\n",
       "      <th>blood_glucose</th>\n",
       "      <th>hba1c</th>\n",
       "      <th>systolic_bp</th>\n",
       "      <th>diastolic_bp</th>\n",
       "      <th>ldl</th>\n",
       "      <th>hdl</th>\n",
       "      <th>triglycerides</th>\n",
       "      <th>haemoglobin</th>\n",
       "      <th>mcv</th>\n",
       "      <th>condition</th>\n",
       "    </tr>\n",
       "  </thead>\n",
       "  <tbody>\n",
       "    <tr>\n",
       "      <th>14771</th>\n",
       "      <td>112.39</td>\n",
       "      <td>5.93</td>\n",
       "      <td>109.34</td>\n",
       "      <td>75.71</td>\n",
       "      <td>118.92</td>\n",
       "      <td>51.58</td>\n",
       "      <td>78.42</td>\n",
       "      <td>13.39</td>\n",
       "      <td>82.63</td>\n",
       "      <td>Fit</td>\n",
       "    </tr>\n",
       "    <tr>\n",
       "      <th>9707</th>\n",
       "      <td>97.73</td>\n",
       "      <td>5.91</td>\n",
       "      <td>179.99</td>\n",
       "      <td>93.86</td>\n",
       "      <td>76.09</td>\n",
       "      <td>45.92</td>\n",
       "      <td>141.73</td>\n",
       "      <td>14.04</td>\n",
       "      <td>86.33</td>\n",
       "      <td>Hypertension</td>\n",
       "    </tr>\n",
       "    <tr>\n",
       "      <th>10746</th>\n",
       "      <td>112.95</td>\n",
       "      <td>5.85</td>\n",
       "      <td>108.03</td>\n",
       "      <td>72.26</td>\n",
       "      <td>95.60</td>\n",
       "      <td>40.12</td>\n",
       "      <td>135.51</td>\n",
       "      <td>15.66</td>\n",
       "      <td>88.30</td>\n",
       "      <td>Fit</td>\n",
       "    </tr>\n",
       "    <tr>\n",
       "      <th>11823</th>\n",
       "      <td>112.33</td>\n",
       "      <td>4.07</td>\n",
       "      <td>107.15</td>\n",
       "      <td>70.22</td>\n",
       "      <td>104.63</td>\n",
       "      <td>45.52</td>\n",
       "      <td>105.14</td>\n",
       "      <td>13.94</td>\n",
       "      <td>90.99</td>\n",
       "      <td>Fit</td>\n",
       "    </tr>\n",
       "    <tr>\n",
       "      <th>12982</th>\n",
       "      <td>70.02</td>\n",
       "      <td>5.93</td>\n",
       "      <td>93.09</td>\n",
       "      <td>63.83</td>\n",
       "      <td>84.76</td>\n",
       "      <td>49.70</td>\n",
       "      <td>95.79</td>\n",
       "      <td>13.28</td>\n",
       "      <td>95.42</td>\n",
       "      <td>Fit</td>\n",
       "    </tr>\n",
       "  </tbody>\n",
       "</table>\n",
       "</div>"
      ],
      "text/plain": [
       "       blood_glucose  hba1c  systolic_bp  diastolic_bp     ldl    hdl  \\\n",
       "14771         112.39   5.93       109.34         75.71  118.92  51.58   \n",
       "9707           97.73   5.91       179.99         93.86   76.09  45.92   \n",
       "10746         112.95   5.85       108.03         72.26   95.60  40.12   \n",
       "11823         112.33   4.07       107.15         70.22  104.63  45.52   \n",
       "12982          70.02   5.93        93.09         63.83   84.76  49.70   \n",
       "\n",
       "       triglycerides  haemoglobin    mcv     condition  \n",
       "14771          78.42        13.39  82.63           Fit  \n",
       "9707          141.73        14.04  86.33  Hypertension  \n",
       "10746         135.51        15.66  88.30           Fit  \n",
       "11823         105.14        13.94  90.99           Fit  \n",
       "12982          95.79        13.28  95.42           Fit  "
      ]
     },
     "execution_count": 89,
     "metadata": {},
     "output_type": "execute_result"
    }
   ],
   "source": [
    "df.sample(5)"
   ]
  },
  {
   "cell_type": "markdown",
   "metadata": {
    "id": "bZfXbkWem7Ri"
   },
   "source": [
    "\n",
    "\n",
    "---\n",
    "\n"
   ]
  },
  {
   "cell_type": "markdown",
   "metadata": {
    "id": "wCGTzt9znMhU"
   },
   "source": [
    "# **🚨Outliers**"
   ]
  },
  {
   "cell_type": "code",
   "execution_count": 90,
   "metadata": {
    "colab": {
     "base_uri": "https://localhost:8080/",
     "height": 300
    },
    "execution": {
     "iopub.execute_input": "2025-09-04T12:14:50.404215Z",
     "iopub.status.busy": "2025-09-04T12:14:50.403834Z",
     "iopub.status.idle": "2025-09-04T12:14:50.458502Z",
     "shell.execute_reply": "2025-09-04T12:14:50.457539Z",
     "shell.execute_reply.started": "2025-09-04T12:14:50.404164Z"
    },
    "id": "ao5zK9JLnSgQ",
    "outputId": "9aef03ca-f7f3-4e87-d4d6-f147f3ce3d98",
    "trusted": true
   },
   "outputs": [
    {
     "data": {
      "text/html": [
       "<div>\n",
       "<style scoped>\n",
       "    .dataframe tbody tr th:only-of-type {\n",
       "        vertical-align: middle;\n",
       "    }\n",
       "\n",
       "    .dataframe tbody tr th {\n",
       "        vertical-align: top;\n",
       "    }\n",
       "\n",
       "    .dataframe thead th {\n",
       "        text-align: right;\n",
       "    }\n",
       "</style>\n",
       "<table border=\"1\" class=\"dataframe\">\n",
       "  <thead>\n",
       "    <tr style=\"text-align: right;\">\n",
       "      <th></th>\n",
       "      <th>blood_glucose</th>\n",
       "      <th>hba1c</th>\n",
       "      <th>systolic_bp</th>\n",
       "      <th>diastolic_bp</th>\n",
       "      <th>ldl</th>\n",
       "      <th>hdl</th>\n",
       "      <th>triglycerides</th>\n",
       "      <th>haemoglobin</th>\n",
       "      <th>mcv</th>\n",
       "    </tr>\n",
       "  </thead>\n",
       "  <tbody>\n",
       "    <tr>\n",
       "      <th>count</th>\n",
       "      <td>23574.000000</td>\n",
       "      <td>23574.000000</td>\n",
       "      <td>23574.000000</td>\n",
       "      <td>23574.000000</td>\n",
       "      <td>23574.000000</td>\n",
       "      <td>23574.000000</td>\n",
       "      <td>23574.000000</td>\n",
       "      <td>23574.000000</td>\n",
       "      <td>23574.000000</td>\n",
       "    </tr>\n",
       "    <tr>\n",
       "      <th>mean</th>\n",
       "      <td>102.801087</td>\n",
       "      <td>5.513664</td>\n",
       "      <td>112.771517</td>\n",
       "      <td>72.137460</td>\n",
       "      <td>100.392235</td>\n",
       "      <td>48.871107</td>\n",
       "      <td>126.529092</td>\n",
       "      <td>13.809347</td>\n",
       "      <td>87.342286</td>\n",
       "    </tr>\n",
       "    <tr>\n",
       "      <th>std</th>\n",
       "      <td>26.716975</td>\n",
       "      <td>1.090884</td>\n",
       "      <td>16.440514</td>\n",
       "      <td>9.639635</td>\n",
       "      <td>34.885754</td>\n",
       "      <td>7.381829</td>\n",
       "      <td>66.142010</td>\n",
       "      <td>1.532609</td>\n",
       "      <td>5.752625</td>\n",
       "    </tr>\n",
       "    <tr>\n",
       "      <th>min</th>\n",
       "      <td>70.010000</td>\n",
       "      <td>4.000000</td>\n",
       "      <td>90.000000</td>\n",
       "      <td>60.000000</td>\n",
       "      <td>50.000000</td>\n",
       "      <td>20.050000</td>\n",
       "      <td>50.010000</td>\n",
       "      <td>6.000000</td>\n",
       "      <td>60.000000</td>\n",
       "    </tr>\n",
       "    <tr>\n",
       "      <th>25%</th>\n",
       "      <td>84.190000</td>\n",
       "      <td>4.680000</td>\n",
       "      <td>100.562500</td>\n",
       "      <td>65.420000</td>\n",
       "      <td>73.650000</td>\n",
       "      <td>44.050000</td>\n",
       "      <td>83.790000</td>\n",
       "      <td>12.890000</td>\n",
       "      <td>83.510000</td>\n",
       "    </tr>\n",
       "    <tr>\n",
       "      <th>50%</th>\n",
       "      <td>98.330000</td>\n",
       "      <td>5.360000</td>\n",
       "      <td>111.060000</td>\n",
       "      <td>70.760000</td>\n",
       "      <td>97.440000</td>\n",
       "      <td>49.390000</td>\n",
       "      <td>117.805000</td>\n",
       "      <td>13.930000</td>\n",
       "      <td>87.690000</td>\n",
       "    </tr>\n",
       "    <tr>\n",
       "      <th>75%</th>\n",
       "      <td>111.850000</td>\n",
       "      <td>6.060000</td>\n",
       "      <td>121.437500</td>\n",
       "      <td>76.100000</td>\n",
       "      <td>121.080000</td>\n",
       "      <td>54.750000</td>\n",
       "      <td>152.050000</td>\n",
       "      <td>14.960000</td>\n",
       "      <td>91.820000</td>\n",
       "    </tr>\n",
       "    <tr>\n",
       "      <th>max</th>\n",
       "      <td>199.950000</td>\n",
       "      <td>9.000000</td>\n",
       "      <td>179.990000</td>\n",
       "      <td>109.980000</td>\n",
       "      <td>250.000000</td>\n",
       "      <td>60.000000</td>\n",
       "      <td>499.800000</td>\n",
       "      <td>16.000000</td>\n",
       "      <td>96.000000</td>\n",
       "    </tr>\n",
       "  </tbody>\n",
       "</table>\n",
       "</div>"
      ],
      "text/plain": [
       "       blood_glucose         hba1c   systolic_bp  diastolic_bp           ldl  \\\n",
       "count   23574.000000  23574.000000  23574.000000  23574.000000  23574.000000   \n",
       "mean      102.801087      5.513664    112.771517     72.137460    100.392235   \n",
       "std        26.716975      1.090884     16.440514      9.639635     34.885754   \n",
       "min        70.010000      4.000000     90.000000     60.000000     50.000000   \n",
       "25%        84.190000      4.680000    100.562500     65.420000     73.650000   \n",
       "50%        98.330000      5.360000    111.060000     70.760000     97.440000   \n",
       "75%       111.850000      6.060000    121.437500     76.100000    121.080000   \n",
       "max       199.950000      9.000000    179.990000    109.980000    250.000000   \n",
       "\n",
       "                hdl  triglycerides   haemoglobin           mcv  \n",
       "count  23574.000000   23574.000000  23574.000000  23574.000000  \n",
       "mean      48.871107     126.529092     13.809347     87.342286  \n",
       "std        7.381829      66.142010      1.532609      5.752625  \n",
       "min       20.050000      50.010000      6.000000     60.000000  \n",
       "25%       44.050000      83.790000     12.890000     83.510000  \n",
       "50%       49.390000     117.805000     13.930000     87.690000  \n",
       "75%       54.750000     152.050000     14.960000     91.820000  \n",
       "max       60.000000     499.800000     16.000000     96.000000  "
      ]
     },
     "execution_count": 90,
     "metadata": {},
     "output_type": "execute_result"
    }
   ],
   "source": [
    "df.describe()"
   ]
  },
  {
   "cell_type": "code",
   "execution_count": 91,
   "metadata": {
    "execution": {
     "iopub.execute_input": "2025-09-04T12:14:50.459814Z",
     "iopub.status.busy": "2025-09-04T12:14:50.459466Z",
     "iopub.status.idle": "2025-09-04T12:14:50.735540Z",
     "shell.execute_reply": "2025-09-04T12:14:50.734738Z",
     "shell.execute_reply.started": "2025-09-04T12:14:50.459793Z"
    },
    "trusted": true
   },
   "outputs": [
    {
     "data": {
      "image/png": "[encoded data removed]",
      "text/plain": [
       "<Figure size 1000x600 with 1 Axes>"
      ]
     },
     "metadata": {},
     "output_type": "display_data"
    }
   ],
   "source": [
    "plt.figure(figsize=(10, 6))\n",
    "sns.boxplot(data=df)\n",
    "plt.title('Boxplot for Outlier Detection')\n",
    "plt.show()"
   ]
  },
  {
   "cell_type": "markdown",
   "metadata": {
    "id": "JHQwZLXmnaGv"
   },
   "source": [
    " - [triglycerides , ldl ] ➡ Have **Strong** Outlier\n",
    " - [blood_glucose\t]       ➡ Have **Mediam** Outlier\n",
    " - [systolic_bp\t]         ➡ Have **Low** Outlier\n"
   ]
  },
  {
   "cell_type": "code",
   "execution_count": 92,
   "metadata": {
    "execution": {
     "iopub.execute_input": "2025-09-04T12:14:50.736865Z",
     "iopub.status.busy": "2025-09-04T12:14:50.736585Z",
     "iopub.status.idle": "2025-09-04T12:14:50.743056Z",
     "shell.execute_reply": "2025-09-04T12:14:50.742017Z",
     "shell.execute_reply.started": "2025-09-04T12:14:50.736837Z"
    },
    "id": "aq4nDL25nScr",
    "trusted": true
   },
   "outputs": [],
   "source": [
    "q1_tri = 83.790000\n",
    "q3_tri = 152.050000\n",
    "iqr_tri = q3_tri - q1_tri\n",
    "Max_tri = q3_tri + 2.2*iqr_tri\n",
    "\n",
    "\n",
    "q1_ldl = 73.650000\n",
    "q3_ldl = 121.080000\n",
    "iqr_ldl = q3_ldl - q1_ldl\n",
    "Max_ldl = q3_ldl + 1.7*iqr_ldl\n",
    "\n",
    "\n",
    "q1_blood = 84.190000\n",
    "q3_blood = 111.850000\n",
    "iqr_blood = q3_blood - q1_blood\n",
    "Max_blood = q3_blood+ 2*iqr_blood"
   ]
  },
  {
   "cell_type": "code",
   "execution_count": 93,
   "metadata": {
    "execution": {
     "iopub.execute_input": "2025-09-04T12:14:50.744493Z",
     "iopub.status.busy": "2025-09-04T12:14:50.744099Z",
     "iopub.status.idle": "2025-09-04T12:14:50.766455Z",
     "shell.execute_reply": "2025-09-04T12:14:50.765360Z",
     "shell.execute_reply.started": "2025-09-04T12:14:50.744428Z"
    },
    "id": "4aa9qvPynSZX",
    "trusted": true
   },
   "outputs": [],
   "source": [
    "df = df[ (df.triglycerides <= Max_tri ) & (df.ldl <= Max_ldl ) & (df.blood_glucose <= Max_blood) ]"
   ]
  },
  {
   "cell_type": "code",
   "execution_count": 94,
   "metadata": {
    "colab": {
     "base_uri": "https://localhost:8080/"
    },
    "execution": {
     "iopub.execute_input": "2025-09-04T12:14:50.767994Z",
     "iopub.status.busy": "2025-09-04T12:14:50.767644Z",
     "iopub.status.idle": "2025-09-04T12:14:50.786227Z",
     "shell.execute_reply": "2025-09-04T12:14:50.785388Z",
     "shell.execute_reply.started": "2025-09-04T12:14:50.767969Z"
    },
    "id": "fADOZKIltkPB",
    "outputId": "4c52de89-b9d8-4673-a256-265b5d0c589c",
    "trusted": true
   },
   "outputs": [
    {
     "data": {
      "text/plain": [
       "(21324, 10)"
      ]
     },
     "execution_count": 94,
     "metadata": {},
     "output_type": "execute_result"
    }
   ],
   "source": [
    "df.shape"
   ]
  },
  {
   "cell_type": "code",
   "execution_count": 95,
   "metadata": {
    "colab": {
     "base_uri": "https://localhost:8080/",
     "height": 206
    },
    "execution": {
     "iopub.execute_input": "2025-09-04T12:14:50.787206Z",
     "iopub.status.busy": "2025-09-04T12:14:50.786899Z",
     "iopub.status.idle": "2025-09-04T12:14:50.814754Z",
     "shell.execute_reply": "2025-09-04T12:14:50.813702Z",
     "shell.execute_reply.started": "2025-09-04T12:14:50.787185Z"
    },
    "id": "ZYuBKkgRtpPJ",
    "outputId": "5b18ca77-e28a-4879-a4cd-82a7341869ce",
    "trusted": true
   },
   "outputs": [
    {
     "data": {
      "text/html": [
       "<div>\n",
       "<style scoped>\n",
       "    .dataframe tbody tr th:only-of-type {\n",
       "        vertical-align: middle;\n",
       "    }\n",
       "\n",
       "    .dataframe tbody tr th {\n",
       "        vertical-align: top;\n",
       "    }\n",
       "\n",
       "    .dataframe thead th {\n",
       "        text-align: right;\n",
       "    }\n",
       "</style>\n",
       "<table border=\"1\" class=\"dataframe\">\n",
       "  <thead>\n",
       "    <tr style=\"text-align: right;\">\n",
       "      <th></th>\n",
       "      <th>blood_glucose</th>\n",
       "      <th>hba1c</th>\n",
       "      <th>systolic_bp</th>\n",
       "      <th>diastolic_bp</th>\n",
       "      <th>ldl</th>\n",
       "      <th>hdl</th>\n",
       "      <th>triglycerides</th>\n",
       "      <th>haemoglobin</th>\n",
       "      <th>mcv</th>\n",
       "      <th>condition</th>\n",
       "    </tr>\n",
       "  </thead>\n",
       "  <tbody>\n",
       "    <tr>\n",
       "      <th>0</th>\n",
       "      <td>107.38</td>\n",
       "      <td>4.93</td>\n",
       "      <td>109.25</td>\n",
       "      <td>74.10</td>\n",
       "      <td>129.20</td>\n",
       "      <td>52.11</td>\n",
       "      <td>68.84</td>\n",
       "      <td>10.17</td>\n",
       "      <td>61.54</td>\n",
       "      <td>Anemia</td>\n",
       "    </tr>\n",
       "    <tr>\n",
       "      <th>1</th>\n",
       "      <td>108.65</td>\n",
       "      <td>5.43</td>\n",
       "      <td>92.61</td>\n",
       "      <td>62.02</td>\n",
       "      <td>51.18</td>\n",
       "      <td>44.06</td>\n",
       "      <td>78.82</td>\n",
       "      <td>12.29</td>\n",
       "      <td>91.04</td>\n",
       "      <td>Fit</td>\n",
       "    </tr>\n",
       "    <tr>\n",
       "      <th>2</th>\n",
       "      <td>103.95</td>\n",
       "      <td>6.08</td>\n",
       "      <td>122.95</td>\n",
       "      <td>63.01</td>\n",
       "      <td>107.72</td>\n",
       "      <td>52.08</td>\n",
       "      <td>139.58</td>\n",
       "      <td>15.93</td>\n",
       "      <td>81.75</td>\n",
       "      <td>Fit</td>\n",
       "    </tr>\n",
       "    <tr>\n",
       "      <th>3</th>\n",
       "      <td>87.33</td>\n",
       "      <td>4.79</td>\n",
       "      <td>91.16</td>\n",
       "      <td>75.81</td>\n",
       "      <td>109.39</td>\n",
       "      <td>46.83</td>\n",
       "      <td>108.29</td>\n",
       "      <td>15.18</td>\n",
       "      <td>85.51</td>\n",
       "      <td>Fit</td>\n",
       "    </tr>\n",
       "    <tr>\n",
       "      <th>4</th>\n",
       "      <td>114.42</td>\n",
       "      <td>4.10</td>\n",
       "      <td>122.86</td>\n",
       "      <td>76.11</td>\n",
       "      <td>123.89</td>\n",
       "      <td>52.92</td>\n",
       "      <td>123.22</td>\n",
       "      <td>15.33</td>\n",
       "      <td>92.30</td>\n",
       "      <td>Fit</td>\n",
       "    </tr>\n",
       "  </tbody>\n",
       "</table>\n",
       "</div>"
      ],
      "text/plain": [
       "   blood_glucose  hba1c  systolic_bp  diastolic_bp     ldl    hdl  \\\n",
       "0         107.38   4.93       109.25         74.10  129.20  52.11   \n",
       "1         108.65   5.43        92.61         62.02   51.18  44.06   \n",
       "2         103.95   6.08       122.95         63.01  107.72  52.08   \n",
       "3          87.33   4.79        91.16         75.81  109.39  46.83   \n",
       "4         114.42   4.10       122.86         76.11  123.89  52.92   \n",
       "\n",
       "   triglycerides  haemoglobin    mcv condition  \n",
       "0          68.84        10.17  61.54    Anemia  \n",
       "1          78.82        12.29  91.04       Fit  \n",
       "2         139.58        15.93  81.75       Fit  \n",
       "3         108.29        15.18  85.51       Fit  \n",
       "4         123.22        15.33  92.30       Fit  "
      ]
     },
     "execution_count": 95,
     "metadata": {},
     "output_type": "execute_result"
    }
   ],
   "source": [
    "df.head()"
   ]
  },
  {
   "cell_type": "markdown",
   "metadata": {
    "id": "foxxOvfz6utU"
   },
   "source": [
    "\n",
    "\n",
    "---\n",
    "\n"
   ]
  },
  {
   "cell_type": "markdown",
   "metadata": {
    "id": "3Bb45TqtlpSR"
   },
   "source": [
    "# **🧩Feature Extraction**"
   ]
  },
  {
   "cell_type": "code",
   "execution_count": 96,
   "metadata": {
    "execution": {
     "iopub.execute_input": "2025-09-04T12:14:50.816664Z",
     "iopub.status.busy": "2025-09-04T12:14:50.816318Z",
     "iopub.status.idle": "2025-09-04T12:14:50.836184Z",
     "shell.execute_reply": "2025-09-04T12:14:50.835095Z",
     "shell.execute_reply.started": "2025-09-04T12:14:50.816628Z"
    },
    "id": "DwpJ2-pllom_",
    "trusted": true
   },
   "outputs": [],
   "source": [
    "def Feature_Extraction(df: pd.DataFrame) -> pd.DataFrame:\n",
    "    \"\"\"\n",
    "    Takes a DataFrame with the following columns:\n",
    "    ['Blood_glucose', 'HbA1C', 'Systolic_BP', 'Diastolic_BP',\n",
    "     'LDL', 'HDL', 'Triglycerides', 'Haemoglobin', 'MCV']\n",
    "\n",
    "    Returns the same DataFrame with additional engineered features:\n",
    "    - glucose_hba1c_ratio\n",
    "    - pulse_pressure, MAP, hypertension_flag\n",
    "    - total_cholesterol, ldl_hdl_ratio, tg_hdl_ratio, non_hdl\n",
    "    - anaemia_flag, microcytosis_flag, hb_mcv_ratio\n",
    "    - risk_score\n",
    "    \"\"\"\n",
    "\n",
    "    df = df.rename(columns=str.lower)\n",
    "\n",
    "\n",
    "    df['glucose_hba1c_ratio'] = df['blood_glucose'] / df['hba1c']\n",
    "\n",
    "    df['pulse_pressure'] = df['systolic_bp'] - df['diastolic_bp']\n",
    "    df['MAP'] = (df['systolic_bp'] + 2*df['diastolic_bp']) / 3\n",
    "    df['hypertension_flag'] = ((df['systolic_bp'] >= 140) |\n",
    "                               (df['diastolic_bp'] >= 90)).astype(int)\n",
    "\n",
    "\n",
    "    df['total_cholesterol'] = df['ldl'] + df['hdl'] + (df['triglycerides'] / 5)\n",
    "    df['ldl_hdl_ratio'] = df['ldl'] / df['hdl']\n",
    "    df['tg_hdl_ratio'] = df['triglycerides'] / df['hdl']\n",
    "    df['non_hdl'] = df['total_cholesterol'] - df['hdl']\n",
    "    df['anaemia_flag'] = (df['haemoglobin'] < 12).astype(int)\n",
    "    df['microcytosis_flag'] = (df['mcv'] < 80).astype(int)\n",
    "    df['hb_mcv_ratio'] = df['haemoglobin'] / df['mcv']\n",
    "\n",
    "\n",
    "    df['risk_score'] = (\n",
    "        (df['blood_glucose']/200) +\n",
    "        (df['ldl']/160) +\n",
    "        (df['triglycerides']/200) +\n",
    "        (df['systolic_bp']/140)\n",
    "    )\n",
    "\n",
    "    return df"
   ]
  },
  {
   "cell_type": "code",
   "execution_count": 97,
   "metadata": {
    "execution": {
     "iopub.execute_input": "2025-09-04T12:14:50.843756Z",
     "iopub.status.busy": "2025-09-04T12:14:50.843425Z",
     "iopub.status.idle": "2025-09-04T12:14:50.888401Z",
     "shell.execute_reply": "2025-09-04T12:14:50.887366Z",
     "shell.execute_reply.started": "2025-09-04T12:14:50.843730Z"
    },
    "id": "UhqZbpQxloeb",
    "trusted": true
   },
   "outputs": [],
   "source": [
    "df = Feature_Extraction(df)"
   ]
  },
  {
   "cell_type": "code",
   "execution_count": 98,
   "metadata": {
    "colab": {
     "base_uri": "https://localhost:8080/",
     "height": 226
    },
    "execution": {
     "iopub.execute_input": "2025-09-04T12:14:50.889585Z",
     "iopub.status.busy": "2025-09-04T12:14:50.889355Z",
     "iopub.status.idle": "2025-09-04T12:14:50.912692Z",
     "shell.execute_reply": "2025-09-04T12:14:50.911895Z",
     "shell.execute_reply.started": "2025-09-04T12:14:50.889568Z"
    },
    "id": "5n616F3kmba2",
    "outputId": "762a2fa0-93fd-4c8e-fb25-4cf07cf8da8c",
    "trusted": true
   },
   "outputs": [
    {
     "data": {
      "text/html": [
       "<div>\n",
       "<style scoped>\n",
       "    .dataframe tbody tr th:only-of-type {\n",
       "        vertical-align: middle;\n",
       "    }\n",
       "\n",
       "    .dataframe tbody tr th {\n",
       "        vertical-align: top;\n",
       "    }\n",
       "\n",
       "    .dataframe thead th {\n",
       "        text-align: right;\n",
       "    }\n",
       "</style>\n",
       "<table border=\"1\" class=\"dataframe\">\n",
       "  <thead>\n",
       "    <tr style=\"text-align: right;\">\n",
       "      <th></th>\n",
       "      <th>blood_glucose</th>\n",
       "      <th>hba1c</th>\n",
       "      <th>systolic_bp</th>\n",
       "      <th>diastolic_bp</th>\n",
       "      <th>ldl</th>\n",
       "      <th>hdl</th>\n",
       "      <th>triglycerides</th>\n",
       "      <th>haemoglobin</th>\n",
       "      <th>mcv</th>\n",
       "      <th>condition</th>\n",
       "      <th>glucose_hba1c_ratio</th>\n",
       "      <th>pulse_pressure</th>\n",
       "      <th>MAP</th>\n",
       "      <th>hypertension_flag</th>\n",
       "      <th>total_cholesterol</th>\n",
       "      <th>ldl_hdl_ratio</th>\n",
       "      <th>tg_hdl_ratio</th>\n",
       "      <th>non_hdl</th>\n",
       "      <th>anaemia_flag</th>\n",
       "      <th>microcytosis_flag</th>\n",
       "      <th>hb_mcv_ratio</th>\n",
       "      <th>risk_score</th>\n",
       "    </tr>\n",
       "  </thead>\n",
       "  <tbody>\n",
       "    <tr>\n",
       "      <th>0</th>\n",
       "      <td>107.38</td>\n",
       "      <td>4.93</td>\n",
       "      <td>109.25</td>\n",
       "      <td>74.10</td>\n",
       "      <td>129.20</td>\n",
       "      <td>52.11</td>\n",
       "      <td>68.84</td>\n",
       "      <td>10.17</td>\n",
       "      <td>61.54</td>\n",
       "      <td>Anemia</td>\n",
       "      <td>21.780933</td>\n",
       "      <td>35.15</td>\n",
       "      <td>85.816667</td>\n",
       "      <td>0</td>\n",
       "      <td>195.078</td>\n",
       "      <td>2.479371</td>\n",
       "      <td>1.321052</td>\n",
       "      <td>142.968</td>\n",
       "      <td>1</td>\n",
       "      <td>1</td>\n",
       "      <td>0.165258</td>\n",
       "      <td>2.468957</td>\n",
       "    </tr>\n",
       "    <tr>\n",
       "      <th>1</th>\n",
       "      <td>108.65</td>\n",
       "      <td>5.43</td>\n",
       "      <td>92.61</td>\n",
       "      <td>62.02</td>\n",
       "      <td>51.18</td>\n",
       "      <td>44.06</td>\n",
       "      <td>78.82</td>\n",
       "      <td>12.29</td>\n",
       "      <td>91.04</td>\n",
       "      <td>Fit</td>\n",
       "      <td>20.009208</td>\n",
       "      <td>30.59</td>\n",
       "      <td>72.216667</td>\n",
       "      <td>0</td>\n",
       "      <td>111.004</td>\n",
       "      <td>1.161598</td>\n",
       "      <td>1.788924</td>\n",
       "      <td>66.944</td>\n",
       "      <td>0</td>\n",
       "      <td>0</td>\n",
       "      <td>0.134996</td>\n",
       "      <td>1.918725</td>\n",
       "    </tr>\n",
       "    <tr>\n",
       "      <th>2</th>\n",
       "      <td>103.95</td>\n",
       "      <td>6.08</td>\n",
       "      <td>122.95</td>\n",
       "      <td>63.01</td>\n",
       "      <td>107.72</td>\n",
       "      <td>52.08</td>\n",
       "      <td>139.58</td>\n",
       "      <td>15.93</td>\n",
       "      <td>81.75</td>\n",
       "      <td>Fit</td>\n",
       "      <td>17.097039</td>\n",
       "      <td>59.94</td>\n",
       "      <td>82.990000</td>\n",
       "      <td>0</td>\n",
       "      <td>187.716</td>\n",
       "      <td>2.068356</td>\n",
       "      <td>2.680108</td>\n",
       "      <td>135.636</td>\n",
       "      <td>0</td>\n",
       "      <td>0</td>\n",
       "      <td>0.194862</td>\n",
       "      <td>2.769114</td>\n",
       "    </tr>\n",
       "    <tr>\n",
       "      <th>3</th>\n",
       "      <td>87.33</td>\n",
       "      <td>4.79</td>\n",
       "      <td>91.16</td>\n",
       "      <td>75.81</td>\n",
       "      <td>109.39</td>\n",
       "      <td>46.83</td>\n",
       "      <td>108.29</td>\n",
       "      <td>15.18</td>\n",
       "      <td>85.51</td>\n",
       "      <td>Fit</td>\n",
       "      <td>18.231733</td>\n",
       "      <td>15.35</td>\n",
       "      <td>80.926667</td>\n",
       "      <td>0</td>\n",
       "      <td>177.878</td>\n",
       "      <td>2.335896</td>\n",
       "      <td>2.312407</td>\n",
       "      <td>131.048</td>\n",
       "      <td>0</td>\n",
       "      <td>0</td>\n",
       "      <td>0.177523</td>\n",
       "      <td>2.312930</td>\n",
       "    </tr>\n",
       "    <tr>\n",
       "      <th>4</th>\n",
       "      <td>114.42</td>\n",
       "      <td>4.10</td>\n",
       "      <td>122.86</td>\n",
       "      <td>76.11</td>\n",
       "      <td>123.89</td>\n",
       "      <td>52.92</td>\n",
       "      <td>123.22</td>\n",
       "      <td>15.33</td>\n",
       "      <td>92.30</td>\n",
       "      <td>Fit</td>\n",
       "      <td>27.907317</td>\n",
       "      <td>46.75</td>\n",
       "      <td>91.693333</td>\n",
       "      <td>0</td>\n",
       "      <td>201.454</td>\n",
       "      <td>2.341081</td>\n",
       "      <td>2.328420</td>\n",
       "      <td>148.534</td>\n",
       "      <td>0</td>\n",
       "      <td>0</td>\n",
       "      <td>0.166089</td>\n",
       "      <td>2.840084</td>\n",
       "    </tr>\n",
       "  </tbody>\n",
       "</table>\n",
       "</div>"
      ],
      "text/plain": [
       "   blood_glucose  hba1c  systolic_bp  diastolic_bp     ldl    hdl  \\\n",
       "0         107.38   4.93       109.25         74.10  129.20  52.11   \n",
       "1         108.65   5.43        92.61         62.02   51.18  44.06   \n",
       "2         103.95   6.08       122.95         63.01  107.72  52.08   \n",
       "3          87.33   4.79        91.16         75.81  109.39  46.83   \n",
       "4         114.42   4.10       122.86         76.11  123.89  52.92   \n",
       "\n",
       "   triglycerides  haemoglobin    mcv condition  glucose_hba1c_ratio  \\\n",
       "0          68.84        10.17  61.54    Anemia            21.780933   \n",
       "1          78.82        12.29  91.04       Fit            20.009208   \n",
       "2         139.58        15.93  81.75       Fit            17.097039   \n",
       "3         108.29        15.18  85.51       Fit            18.231733   \n",
       "4         123.22        15.33  92.30       Fit            27.907317   \n",
       "\n",
       "   pulse_pressure        MAP  hypertension_flag  total_cholesterol  \\\n",
       "0           35.15  85.816667                  0            195.078   \n",
       "1           30.59  72.216667                  0            111.004   \n",
       "2           59.94  82.990000                  0            187.716   \n",
       "3           15.35  80.926667                  0            177.878   \n",
       "4           46.75  91.693333                  0            201.454   \n",
       "\n",
       "   ldl_hdl_ratio  tg_hdl_ratio  non_hdl  anaemia_flag  microcytosis_flag  \\\n",
       "0       2.479371      1.321052  142.968             1                  1   \n",
       "1       1.161598      1.788924   66.944             0                  0   \n",
       "2       2.068356      2.680108  135.636             0                  0   \n",
       "3       2.335896      2.312407  131.048             0                  0   \n",
       "4       2.341081      2.328420  148.534             0                  0   \n",
       "\n",
       "   hb_mcv_ratio  risk_score  \n",
       "0      0.165258    2.468957  \n",
       "1      0.134996    1.918725  \n",
       "2      0.194862    2.769114  \n",
       "3      0.177523    2.312930  \n",
       "4      0.166089    2.840084  "
      ]
     },
     "execution_count": 98,
     "metadata": {},
     "output_type": "execute_result"
    }
   ],
   "source": [
    "df.head()"
   ]
  },
  {
   "cell_type": "markdown",
   "metadata": {},
   "source": [
    "---"
   ]
  },
  {
   "cell_type": "markdown",
   "metadata": {
    "id": "JysOX9_b3lH4"
   },
   "source": [
    "# **⚙️Prepar data for model**"
   ]
  },
  {
   "cell_type": "code",
   "execution_count": 99,
   "metadata": {
    "colab": {
     "base_uri": "https://localhost:8080/",
     "height": 226
    },
    "execution": {
     "iopub.execute_input": "2025-09-04T12:14:50.914002Z",
     "iopub.status.busy": "2025-09-04T12:14:50.913661Z",
     "iopub.status.idle": "2025-09-04T12:14:50.942956Z",
     "shell.execute_reply": "2025-09-04T12:14:50.941922Z",
     "shell.execute_reply.started": "2025-09-04T12:14:50.913973Z"
    },
    "id": "s-kmLpI0uoW9",
    "outputId": "adfc4726-06eb-4623-e2b5-b80394f64b5b",
    "trusted": true
   },
   "outputs": [
    {
     "data": {
      "text/html": [
       "<div>\n",
       "<style scoped>\n",
       "    .dataframe tbody tr th:only-of-type {\n",
       "        vertical-align: middle;\n",
       "    }\n",
       "\n",
       "    .dataframe tbody tr th {\n",
       "        vertical-align: top;\n",
       "    }\n",
       "\n",
       "    .dataframe thead th {\n",
       "        text-align: right;\n",
       "    }\n",
       "</style>\n",
       "<table border=\"1\" class=\"dataframe\">\n",
       "  <thead>\n",
       "    <tr style=\"text-align: right;\">\n",
       "      <th></th>\n",
       "      <th>blood_glucose</th>\n",
       "      <th>hba1c</th>\n",
       "      <th>systolic_bp</th>\n",
       "      <th>diastolic_bp</th>\n",
       "      <th>ldl</th>\n",
       "      <th>hdl</th>\n",
       "      <th>triglycerides</th>\n",
       "      <th>haemoglobin</th>\n",
       "      <th>mcv</th>\n",
       "      <th>condition</th>\n",
       "      <th>glucose_hba1c_ratio</th>\n",
       "      <th>pulse_pressure</th>\n",
       "      <th>MAP</th>\n",
       "      <th>hypertension_flag</th>\n",
       "      <th>total_cholesterol</th>\n",
       "      <th>ldl_hdl_ratio</th>\n",
       "      <th>tg_hdl_ratio</th>\n",
       "      <th>non_hdl</th>\n",
       "      <th>anaemia_flag</th>\n",
       "      <th>microcytosis_flag</th>\n",
       "      <th>hb_mcv_ratio</th>\n",
       "      <th>risk_score</th>\n",
       "    </tr>\n",
       "  </thead>\n",
       "  <tbody>\n",
       "    <tr>\n",
       "      <th>0</th>\n",
       "      <td>107.38</td>\n",
       "      <td>4.93</td>\n",
       "      <td>109.25</td>\n",
       "      <td>74.10</td>\n",
       "      <td>129.20</td>\n",
       "      <td>52.11</td>\n",
       "      <td>68.84</td>\n",
       "      <td>10.17</td>\n",
       "      <td>61.54</td>\n",
       "      <td>Anemia</td>\n",
       "      <td>21.780933</td>\n",
       "      <td>35.15</td>\n",
       "      <td>85.816667</td>\n",
       "      <td>0</td>\n",
       "      <td>195.078</td>\n",
       "      <td>2.479371</td>\n",
       "      <td>1.321052</td>\n",
       "      <td>142.968</td>\n",
       "      <td>1</td>\n",
       "      <td>1</td>\n",
       "      <td>0.165258</td>\n",
       "      <td>2.468957</td>\n",
       "    </tr>\n",
       "    <tr>\n",
       "      <th>1</th>\n",
       "      <td>108.65</td>\n",
       "      <td>5.43</td>\n",
       "      <td>92.61</td>\n",
       "      <td>62.02</td>\n",
       "      <td>51.18</td>\n",
       "      <td>44.06</td>\n",
       "      <td>78.82</td>\n",
       "      <td>12.29</td>\n",
       "      <td>91.04</td>\n",
       "      <td>Fit</td>\n",
       "      <td>20.009208</td>\n",
       "      <td>30.59</td>\n",
       "      <td>72.216667</td>\n",
       "      <td>0</td>\n",
       "      <td>111.004</td>\n",
       "      <td>1.161598</td>\n",
       "      <td>1.788924</td>\n",
       "      <td>66.944</td>\n",
       "      <td>0</td>\n",
       "      <td>0</td>\n",
       "      <td>0.134996</td>\n",
       "      <td>1.918725</td>\n",
       "    </tr>\n",
       "    <tr>\n",
       "      <th>2</th>\n",
       "      <td>103.95</td>\n",
       "      <td>6.08</td>\n",
       "      <td>122.95</td>\n",
       "      <td>63.01</td>\n",
       "      <td>107.72</td>\n",
       "      <td>52.08</td>\n",
       "      <td>139.58</td>\n",
       "      <td>15.93</td>\n",
       "      <td>81.75</td>\n",
       "      <td>Fit</td>\n",
       "      <td>17.097039</td>\n",
       "      <td>59.94</td>\n",
       "      <td>82.990000</td>\n",
       "      <td>0</td>\n",
       "      <td>187.716</td>\n",
       "      <td>2.068356</td>\n",
       "      <td>2.680108</td>\n",
       "      <td>135.636</td>\n",
       "      <td>0</td>\n",
       "      <td>0</td>\n",
       "      <td>0.194862</td>\n",
       "      <td>2.769114</td>\n",
       "    </tr>\n",
       "    <tr>\n",
       "      <th>3</th>\n",
       "      <td>87.33</td>\n",
       "      <td>4.79</td>\n",
       "      <td>91.16</td>\n",
       "      <td>75.81</td>\n",
       "      <td>109.39</td>\n",
       "      <td>46.83</td>\n",
       "      <td>108.29</td>\n",
       "      <td>15.18</td>\n",
       "      <td>85.51</td>\n",
       "      <td>Fit</td>\n",
       "      <td>18.231733</td>\n",
       "      <td>15.35</td>\n",
       "      <td>80.926667</td>\n",
       "      <td>0</td>\n",
       "      <td>177.878</td>\n",
       "      <td>2.335896</td>\n",
       "      <td>2.312407</td>\n",
       "      <td>131.048</td>\n",
       "      <td>0</td>\n",
       "      <td>0</td>\n",
       "      <td>0.177523</td>\n",
       "      <td>2.312930</td>\n",
       "    </tr>\n",
       "    <tr>\n",
       "      <th>4</th>\n",
       "      <td>114.42</td>\n",
       "      <td>4.10</td>\n",
       "      <td>122.86</td>\n",
       "      <td>76.11</td>\n",
       "      <td>123.89</td>\n",
       "      <td>52.92</td>\n",
       "      <td>123.22</td>\n",
       "      <td>15.33</td>\n",
       "      <td>92.30</td>\n",
       "      <td>Fit</td>\n",
       "      <td>27.907317</td>\n",
       "      <td>46.75</td>\n",
       "      <td>91.693333</td>\n",
       "      <td>0</td>\n",
       "      <td>201.454</td>\n",
       "      <td>2.341081</td>\n",
       "      <td>2.328420</td>\n",
       "      <td>148.534</td>\n",
       "      <td>0</td>\n",
       "      <td>0</td>\n",
       "      <td>0.166089</td>\n",
       "      <td>2.840084</td>\n",
       "    </tr>\n",
       "  </tbody>\n",
       "</table>\n",
       "</div>"
      ],
      "text/plain": [
       "   blood_glucose  hba1c  systolic_bp  diastolic_bp     ldl    hdl  \\\n",
       "0         107.38   4.93       109.25         74.10  129.20  52.11   \n",
       "1         108.65   5.43        92.61         62.02   51.18  44.06   \n",
       "2         103.95   6.08       122.95         63.01  107.72  52.08   \n",
       "3          87.33   4.79        91.16         75.81  109.39  46.83   \n",
       "4         114.42   4.10       122.86         76.11  123.89  52.92   \n",
       "\n",
       "   triglycerides  haemoglobin    mcv condition  glucose_hba1c_ratio  \\\n",
       "0          68.84        10.17  61.54    Anemia            21.780933   \n",
       "1          78.82        12.29  91.04       Fit            20.009208   \n",
       "2         139.58        15.93  81.75       Fit            17.097039   \n",
       "3         108.29        15.18  85.51       Fit            18.231733   \n",
       "4         123.22        15.33  92.30       Fit            27.907317   \n",
       "\n",
       "   pulse_pressure        MAP  hypertension_flag  total_cholesterol  \\\n",
       "0           35.15  85.816667                  0            195.078   \n",
       "1           30.59  72.216667                  0            111.004   \n",
       "2           59.94  82.990000                  0            187.716   \n",
       "3           15.35  80.926667                  0            177.878   \n",
       "4           46.75  91.693333                  0            201.454   \n",
       "\n",
       "   ldl_hdl_ratio  tg_hdl_ratio  non_hdl  anaemia_flag  microcytosis_flag  \\\n",
       "0       2.479371      1.321052  142.968             1                  1   \n",
       "1       1.161598      1.788924   66.944             0                  0   \n",
       "2       2.068356      2.680108  135.636             0                  0   \n",
       "3       2.335896      2.312407  131.048             0                  0   \n",
       "4       2.341081      2.328420  148.534             0                  0   \n",
       "\n",
       "   hb_mcv_ratio  risk_score  \n",
       "0      0.165258    2.468957  \n",
       "1      0.134996    1.918725  \n",
       "2      0.194862    2.769114  \n",
       "3      0.177523    2.312930  \n",
       "4      0.166089    2.840084  "
      ]
     },
     "execution_count": 99,
     "metadata": {},
     "output_type": "execute_result"
    }
   ],
   "source": [
    "df.head()"
   ]
  },
  {
   "cell_type": "markdown",
   "metadata": {
    "id": "84jHY1Vg4ppR"
   },
   "source": [
    "## ***➡encoder***"
   ]
  },
  {
   "cell_type": "code",
   "execution_count": 100,
   "metadata": {
    "execution": {
     "iopub.execute_input": "2025-09-04T12:14:50.944605Z",
     "iopub.status.busy": "2025-09-04T12:14:50.944187Z",
     "iopub.status.idle": "2025-09-04T12:14:50.967589Z",
     "shell.execute_reply": "2025-09-04T12:14:50.966497Z",
     "shell.execute_reply.started": "2025-09-04T12:14:50.944575Z"
    },
    "id": "il9EVFNiw3yq",
    "trusted": true
   },
   "outputs": [],
   "source": [
    "df[\"condition\"] = df[\"condition\"].map({\n",
    "    'Anemia': 0,\n",
    "    'Fit': 1 ,\n",
    "    'Hypertension':2,\n",
    "    'Diabetes':3,\n",
    "    'High_Cholesterol':4\n",
    "})"
   ]
  },
  {
   "cell_type": "code",
   "execution_count": 101,
   "metadata": {
    "execution": {
     "iopub.execute_input": "2025-09-04T12:14:50.968818Z",
     "iopub.status.busy": "2025-09-04T12:14:50.968487Z",
     "iopub.status.idle": "2025-09-04T12:14:50.993693Z",
     "shell.execute_reply": "2025-09-04T12:14:50.992759Z",
     "shell.execute_reply.started": "2025-09-04T12:14:50.968791Z"
    },
    "id": "tsZoUIxvuva3",
    "trusted": true
   },
   "outputs": [],
   "source": [
    "features = df.drop('condition' , axis =  1)\n",
    "target = df.condition"
   ]
  },
  {
   "cell_type": "code",
   "execution_count": 102,
   "metadata": {
    "colab": {
     "base_uri": "https://localhost:8080/",
     "height": 226
    },
    "execution": {
     "iopub.execute_input": "2025-09-04T12:14:50.994723Z",
     "iopub.status.busy": "2025-09-04T12:14:50.994452Z",
     "iopub.status.idle": "2025-09-04T12:14:51.018705Z",
     "shell.execute_reply": "2025-09-04T12:14:51.017461Z",
     "shell.execute_reply.started": "2025-09-04T12:14:50.994702Z"
    },
    "id": "Y6tJwfOk-RRr",
    "outputId": "7425d45a-8bdf-4b53-ae85-48655c2245bc",
    "trusted": true
   },
   "outputs": [
    {
     "data": {
      "text/html": [
       "<div>\n",
       "<style scoped>\n",
       "    .dataframe tbody tr th:only-of-type {\n",
       "        vertical-align: middle;\n",
       "    }\n",
       "\n",
       "    .dataframe tbody tr th {\n",
       "        vertical-align: top;\n",
       "    }\n",
       "\n",
       "    .dataframe thead th {\n",
       "        text-align: right;\n",
       "    }\n",
       "</style>\n",
       "<table border=\"1\" class=\"dataframe\">\n",
       "  <thead>\n",
       "    <tr style=\"text-align: right;\">\n",
       "      <th></th>\n",
       "      <th>blood_glucose</th>\n",
       "      <th>hba1c</th>\n",
       "      <th>systolic_bp</th>\n",
       "      <th>diastolic_bp</th>\n",
       "      <th>ldl</th>\n",
       "      <th>hdl</th>\n",
       "      <th>triglycerides</th>\n",
       "      <th>haemoglobin</th>\n",
       "      <th>mcv</th>\n",
       "      <th>glucose_hba1c_ratio</th>\n",
       "      <th>pulse_pressure</th>\n",
       "      <th>MAP</th>\n",
       "      <th>hypertension_flag</th>\n",
       "      <th>total_cholesterol</th>\n",
       "      <th>ldl_hdl_ratio</th>\n",
       "      <th>tg_hdl_ratio</th>\n",
       "      <th>non_hdl</th>\n",
       "      <th>anaemia_flag</th>\n",
       "      <th>microcytosis_flag</th>\n",
       "      <th>hb_mcv_ratio</th>\n",
       "      <th>risk_score</th>\n",
       "    </tr>\n",
       "  </thead>\n",
       "  <tbody>\n",
       "    <tr>\n",
       "      <th>0</th>\n",
       "      <td>107.38</td>\n",
       "      <td>4.93</td>\n",
       "      <td>109.25</td>\n",
       "      <td>74.10</td>\n",
       "      <td>129.20</td>\n",
       "      <td>52.11</td>\n",
       "      <td>68.84</td>\n",
       "      <td>10.17</td>\n",
       "      <td>61.54</td>\n",
       "      <td>21.780933</td>\n",
       "      <td>35.15</td>\n",
       "      <td>85.816667</td>\n",
       "      <td>0</td>\n",
       "      <td>195.078</td>\n",
       "      <td>2.479371</td>\n",
       "      <td>1.321052</td>\n",
       "      <td>142.968</td>\n",
       "      <td>1</td>\n",
       "      <td>1</td>\n",
       "      <td>0.165258</td>\n",
       "      <td>2.468957</td>\n",
       "    </tr>\n",
       "    <tr>\n",
       "      <th>1</th>\n",
       "      <td>108.65</td>\n",
       "      <td>5.43</td>\n",
       "      <td>92.61</td>\n",
       "      <td>62.02</td>\n",
       "      <td>51.18</td>\n",
       "      <td>44.06</td>\n",
       "      <td>78.82</td>\n",
       "      <td>12.29</td>\n",
       "      <td>91.04</td>\n",
       "      <td>20.009208</td>\n",
       "      <td>30.59</td>\n",
       "      <td>72.216667</td>\n",
       "      <td>0</td>\n",
       "      <td>111.004</td>\n",
       "      <td>1.161598</td>\n",
       "      <td>1.788924</td>\n",
       "      <td>66.944</td>\n",
       "      <td>0</td>\n",
       "      <td>0</td>\n",
       "      <td>0.134996</td>\n",
       "      <td>1.918725</td>\n",
       "    </tr>\n",
       "    <tr>\n",
       "      <th>2</th>\n",
       "      <td>103.95</td>\n",
       "      <td>6.08</td>\n",
       "      <td>122.95</td>\n",
       "      <td>63.01</td>\n",
       "      <td>107.72</td>\n",
       "      <td>52.08</td>\n",
       "      <td>139.58</td>\n",
       "      <td>15.93</td>\n",
       "      <td>81.75</td>\n",
       "      <td>17.097039</td>\n",
       "      <td>59.94</td>\n",
       "      <td>82.990000</td>\n",
       "      <td>0</td>\n",
       "      <td>187.716</td>\n",
       "      <td>2.068356</td>\n",
       "      <td>2.680108</td>\n",
       "      <td>135.636</td>\n",
       "      <td>0</td>\n",
       "      <td>0</td>\n",
       "      <td>0.194862</td>\n",
       "      <td>2.769114</td>\n",
       "    </tr>\n",
       "    <tr>\n",
       "      <th>3</th>\n",
       "      <td>87.33</td>\n",
       "      <td>4.79</td>\n",
       "      <td>91.16</td>\n",
       "      <td>75.81</td>\n",
       "      <td>109.39</td>\n",
       "      <td>46.83</td>\n",
       "      <td>108.29</td>\n",
       "      <td>15.18</td>\n",
       "      <td>85.51</td>\n",
       "      <td>18.231733</td>\n",
       "      <td>15.35</td>\n",
       "      <td>80.926667</td>\n",
       "      <td>0</td>\n",
       "      <td>177.878</td>\n",
       "      <td>2.335896</td>\n",
       "      <td>2.312407</td>\n",
       "      <td>131.048</td>\n",
       "      <td>0</td>\n",
       "      <td>0</td>\n",
       "      <td>0.177523</td>\n",
       "      <td>2.312930</td>\n",
       "    </tr>\n",
       "    <tr>\n",
       "      <th>4</th>\n",
       "      <td>114.42</td>\n",
       "      <td>4.10</td>\n",
       "      <td>122.86</td>\n",
       "      <td>76.11</td>\n",
       "      <td>123.89</td>\n",
       "      <td>52.92</td>\n",
       "      <td>123.22</td>\n",
       "      <td>15.33</td>\n",
       "      <td>92.30</td>\n",
       "      <td>27.907317</td>\n",
       "      <td>46.75</td>\n",
       "      <td>91.693333</td>\n",
       "      <td>0</td>\n",
       "      <td>201.454</td>\n",
       "      <td>2.341081</td>\n",
       "      <td>2.328420</td>\n",
       "      <td>148.534</td>\n",
       "      <td>0</td>\n",
       "      <td>0</td>\n",
       "      <td>0.166089</td>\n",
       "      <td>2.840084</td>\n",
       "    </tr>\n",
       "  </tbody>\n",
       "</table>\n",
       "</div>"
      ],
      "text/plain": [
       "   blood_glucose  hba1c  systolic_bp  diastolic_bp     ldl    hdl  \\\n",
       "0         107.38   4.93       109.25         74.10  129.20  52.11   \n",
       "1         108.65   5.43        92.61         62.02   51.18  44.06   \n",
       "2         103.95   6.08       122.95         63.01  107.72  52.08   \n",
       "3          87.33   4.79        91.16         75.81  109.39  46.83   \n",
       "4         114.42   4.10       122.86         76.11  123.89  52.92   \n",
       "\n",
       "   triglycerides  haemoglobin    mcv  glucose_hba1c_ratio  pulse_pressure  \\\n",
       "0          68.84        10.17  61.54            21.780933           35.15   \n",
       "1          78.82        12.29  91.04            20.009208           30.59   \n",
       "2         139.58        15.93  81.75            17.097039           59.94   \n",
       "3         108.29        15.18  85.51            18.231733           15.35   \n",
       "4         123.22        15.33  92.30            27.907317           46.75   \n",
       "\n",
       "         MAP  hypertension_flag  total_cholesterol  ldl_hdl_ratio  \\\n",
       "0  85.816667                  0            195.078       2.479371   \n",
       "1  72.216667                  0            111.004       1.161598   \n",
       "2  82.990000                  0            187.716       2.068356   \n",
       "3  80.926667                  0            177.878       2.335896   \n",
       "4  91.693333                  0            201.454       2.341081   \n",
       "\n",
       "   tg_hdl_ratio  non_hdl  anaemia_flag  microcytosis_flag  hb_mcv_ratio  \\\n",
       "0      1.321052  142.968             1                  1      0.165258   \n",
       "1      1.788924   66.944             0                  0      0.134996   \n",
       "2      2.680108  135.636             0                  0      0.194862   \n",
       "3      2.312407  131.048             0                  0      0.177523   \n",
       "4      2.328420  148.534             0                  0      0.166089   \n",
       "\n",
       "   risk_score  \n",
       "0    2.468957  \n",
       "1    1.918725  \n",
       "2    2.769114  \n",
       "3    2.312930  \n",
       "4    2.840084  "
      ]
     },
     "execution_count": 102,
     "metadata": {},
     "output_type": "execute_result"
    }
   ],
   "source": [
    "features.head()"
   ]
  },
  {
   "cell_type": "code",
   "execution_count": 103,
   "metadata": {
    "colab": {
     "base_uri": "https://localhost:8080/"
    },
    "execution": {
     "iopub.execute_input": "2025-09-04T12:14:51.020087Z",
     "iopub.status.busy": "2025-09-04T12:14:51.019820Z",
     "iopub.status.idle": "2025-09-04T12:14:51.041896Z",
     "shell.execute_reply": "2025-09-04T12:14:51.040587Z",
     "shell.execute_reply.started": "2025-09-04T12:14:51.020066Z"
    },
    "id": "ZkKRwIC2vkbW",
    "outputId": "3283645b-e487-49d4-bb49-1b7a84802111",
    "trusted": true
   },
   "outputs": [
    {
     "data": {
      "text/plain": [
       "array([0, 1, 2, 3, 4], dtype=int64)"
      ]
     },
     "execution_count": 103,
     "metadata": {},
     "output_type": "execute_result"
    }
   ],
   "source": [
    "target.unique()"
   ]
  },
  {
   "cell_type": "markdown",
   "metadata": {
    "id": "X5ZiRTAHMFxQ"
   },
   "source": [
    "## ***➡Scale***"
   ]
  },
  {
   "cell_type": "code",
   "execution_count": 104,
   "metadata": {
    "execution": {
     "iopub.execute_input": "2025-09-04T12:14:51.043346Z",
     "iopub.status.busy": "2025-09-04T12:14:51.042962Z",
     "iopub.status.idle": "2025-09-04T12:14:51.147291Z",
     "shell.execute_reply": "2025-09-04T12:14:51.146358Z",
     "shell.execute_reply.started": "2025-09-04T12:14:51.043321Z"
    },
    "id": "OG-z_jIsN4Ac",
    "trusted": true
   },
   "outputs": [],
   "source": [
    "from sklearn.preprocessing import RobustScaler"
   ]
  },
  {
   "cell_type": "code",
   "execution_count": 105,
   "metadata": {
    "execution": {
     "iopub.execute_input": "2025-09-04T12:14:51.148508Z",
     "iopub.status.busy": "2025-09-04T12:14:51.148215Z",
     "iopub.status.idle": "2025-09-04T12:14:51.152973Z",
     "shell.execute_reply": "2025-09-04T12:14:51.151826Z",
     "shell.execute_reply.started": "2025-09-04T12:14:51.148487Z"
    },
    "id": "5_dKoUZqyLl-",
    "trusted": true
   },
   "outputs": [],
   "source": [
    "scaler = RobustScaler()"
   ]
  },
  {
   "cell_type": "code",
   "execution_count": 106,
   "metadata": {
    "execution": {
     "iopub.execute_input": "2025-09-04T12:14:51.154540Z",
     "iopub.status.busy": "2025-09-04T12:14:51.154203Z",
     "iopub.status.idle": "2025-09-04T12:14:51.213966Z",
     "shell.execute_reply": "2025-09-04T12:14:51.213092Z",
     "shell.execute_reply.started": "2025-09-04T12:14:51.154519Z"
    },
    "id": "uUmq_aK4yLjr",
    "trusted": true
   },
   "outputs": [],
   "source": [
    "features_scaler = scaler.fit_transform(features)"
   ]
  },
  {
   "cell_type": "code",
   "execution_count": 107,
   "metadata": {
    "colab": {
     "base_uri": "https://localhost:8080/",
     "height": 226
    },
    "execution": {
     "iopub.execute_input": "2025-09-04T12:14:51.215058Z",
     "iopub.status.busy": "2025-09-04T12:14:51.214814Z",
     "iopub.status.idle": "2025-09-04T12:14:51.221870Z",
     "shell.execute_reply": "2025-09-04T12:14:51.220704Z",
     "shell.execute_reply.started": "2025-09-04T12:14:51.215039Z"
    },
    "id": "WW1U6N_TyqG6",
    "outputId": "1aece971-ad1d-482c-f82b-330f2db38e31",
    "trusted": true
   },
   "outputs": [
    {
     "data": {
      "text/plain": [
       "array([[ 0.39384499, -0.28461538, -0.09590671, ...,  1.        ,\n",
       "         0.29509335,  0.00693737],\n",
       "       [ 0.44180119,  0.1       , -0.88791052, ...,  0.        ,\n",
       "        -0.97802177, -1.33916544],\n",
       "       [ 0.2643255 ,  0.6       ,  0.55616373, ...,  0.        ,\n",
       "         1.5404959 ,  0.74124993],\n",
       "       ...,\n",
       "       [ 0.63098272, -0.3       ,  0.81508805, ...,  0.        ,\n",
       "         0.45789474, -0.57567487],\n",
       "       [ 0.06343812, -0.5       ,  2.98357925, ...,  0.        ,\n",
       "         0.99498738,  0.60277779],\n",
       "       [ 0.60379496, -0.28461538,  1.24535935, ...,  0.        ,\n",
       "        -0.25575462,  0.40389637]])"
      ]
     },
     "execution_count": 107,
     "metadata": {},
     "output_type": "execute_result"
    }
   ],
   "source": [
    "features_scaler"
   ]
  },
  {
   "cell_type": "code",
   "execution_count": 108,
   "metadata": {
    "execution": {
     "iopub.execute_input": "2025-09-04T12:14:51.223071Z",
     "iopub.status.busy": "2025-09-04T12:14:51.222816Z",
     "iopub.status.idle": "2025-09-04T12:14:51.245452Z",
     "shell.execute_reply": "2025-09-04T12:14:51.244475Z",
     "shell.execute_reply.started": "2025-09-04T12:14:51.223052Z"
    },
    "id": "bEqHwvIpyLe1",
    "trusted": true
   },
   "outputs": [
    {
     "data": {
      "text/plain": [
       "array([0, 1, 2, 3, 4], dtype=int64)"
      ]
     },
     "execution_count": 108,
     "metadata": {},
     "output_type": "execute_result"
    }
   ],
   "source": [
    "target.unique()"
   ]
  },
  {
   "cell_type": "code",
   "execution_count": 109,
   "metadata": {
    "execution": {
     "iopub.execute_input": "2025-09-04T12:14:51.247319Z",
     "iopub.status.busy": "2025-09-04T12:14:51.246902Z",
     "iopub.status.idle": "2025-09-04T12:14:51.279471Z",
     "shell.execute_reply": "2025-09-04T12:14:51.278491Z",
     "shell.execute_reply.started": "2025-09-04T12:14:51.247287Z"
    },
    "id": "fjFJGeIj0xoy",
    "trusted": true
   },
   "outputs": [
    {
     "data": {
      "text/html": [
       "<div>\n",
       "<style scoped>\n",
       "    .dataframe tbody tr th:only-of-type {\n",
       "        vertical-align: middle;\n",
       "    }\n",
       "\n",
       "    .dataframe tbody tr th {\n",
       "        vertical-align: top;\n",
       "    }\n",
       "\n",
       "    .dataframe thead th {\n",
       "        text-align: right;\n",
       "    }\n",
       "</style>\n",
       "<table border=\"1\" class=\"dataframe\">\n",
       "  <thead>\n",
       "    <tr style=\"text-align: right;\">\n",
       "      <th></th>\n",
       "      <th>blood_glucose</th>\n",
       "      <th>hba1c</th>\n",
       "      <th>systolic_bp</th>\n",
       "      <th>diastolic_bp</th>\n",
       "      <th>ldl</th>\n",
       "      <th>hdl</th>\n",
       "      <th>triglycerides</th>\n",
       "      <th>haemoglobin</th>\n",
       "      <th>mcv</th>\n",
       "      <th>condition</th>\n",
       "      <th>glucose_hba1c_ratio</th>\n",
       "      <th>pulse_pressure</th>\n",
       "      <th>MAP</th>\n",
       "      <th>hypertension_flag</th>\n",
       "      <th>total_cholesterol</th>\n",
       "      <th>ldl_hdl_ratio</th>\n",
       "      <th>tg_hdl_ratio</th>\n",
       "      <th>non_hdl</th>\n",
       "      <th>anaemia_flag</th>\n",
       "      <th>microcytosis_flag</th>\n",
       "      <th>hb_mcv_ratio</th>\n",
       "      <th>risk_score</th>\n",
       "    </tr>\n",
       "  </thead>\n",
       "  <tbody>\n",
       "    <tr>\n",
       "      <th>0</th>\n",
       "      <td>107.38</td>\n",
       "      <td>4.93</td>\n",
       "      <td>109.25</td>\n",
       "      <td>74.10</td>\n",
       "      <td>129.20</td>\n",
       "      <td>52.11</td>\n",
       "      <td>68.84</td>\n",
       "      <td>10.17</td>\n",
       "      <td>61.54</td>\n",
       "      <td>0</td>\n",
       "      <td>21.780933</td>\n",
       "      <td>35.15</td>\n",
       "      <td>85.816667</td>\n",
       "      <td>0</td>\n",
       "      <td>195.078</td>\n",
       "      <td>2.479371</td>\n",
       "      <td>1.321052</td>\n",
       "      <td>142.968</td>\n",
       "      <td>1</td>\n",
       "      <td>1</td>\n",
       "      <td>0.165258</td>\n",
       "      <td>2.468957</td>\n",
       "    </tr>\n",
       "    <tr>\n",
       "      <th>1</th>\n",
       "      <td>108.65</td>\n",
       "      <td>5.43</td>\n",
       "      <td>92.61</td>\n",
       "      <td>62.02</td>\n",
       "      <td>51.18</td>\n",
       "      <td>44.06</td>\n",
       "      <td>78.82</td>\n",
       "      <td>12.29</td>\n",
       "      <td>91.04</td>\n",
       "      <td>1</td>\n",
       "      <td>20.009208</td>\n",
       "      <td>30.59</td>\n",
       "      <td>72.216667</td>\n",
       "      <td>0</td>\n",
       "      <td>111.004</td>\n",
       "      <td>1.161598</td>\n",
       "      <td>1.788924</td>\n",
       "      <td>66.944</td>\n",
       "      <td>0</td>\n",
       "      <td>0</td>\n",
       "      <td>0.134996</td>\n",
       "      <td>1.918725</td>\n",
       "    </tr>\n",
       "    <tr>\n",
       "      <th>2</th>\n",
       "      <td>103.95</td>\n",
       "      <td>6.08</td>\n",
       "      <td>122.95</td>\n",
       "      <td>63.01</td>\n",
       "      <td>107.72</td>\n",
       "      <td>52.08</td>\n",
       "      <td>139.58</td>\n",
       "      <td>15.93</td>\n",
       "      <td>81.75</td>\n",
       "      <td>1</td>\n",
       "      <td>17.097039</td>\n",
       "      <td>59.94</td>\n",
       "      <td>82.990000</td>\n",
       "      <td>0</td>\n",
       "      <td>187.716</td>\n",
       "      <td>2.068356</td>\n",
       "      <td>2.680108</td>\n",
       "      <td>135.636</td>\n",
       "      <td>0</td>\n",
       "      <td>0</td>\n",
       "      <td>0.194862</td>\n",
       "      <td>2.769114</td>\n",
       "    </tr>\n",
       "    <tr>\n",
       "      <th>3</th>\n",
       "      <td>87.33</td>\n",
       "      <td>4.79</td>\n",
       "      <td>91.16</td>\n",
       "      <td>75.81</td>\n",
       "      <td>109.39</td>\n",
       "      <td>46.83</td>\n",
       "      <td>108.29</td>\n",
       "      <td>15.18</td>\n",
       "      <td>85.51</td>\n",
       "      <td>1</td>\n",
       "      <td>18.231733</td>\n",
       "      <td>15.35</td>\n",
       "      <td>80.926667</td>\n",
       "      <td>0</td>\n",
       "      <td>177.878</td>\n",
       "      <td>2.335896</td>\n",
       "      <td>2.312407</td>\n",
       "      <td>131.048</td>\n",
       "      <td>0</td>\n",
       "      <td>0</td>\n",
       "      <td>0.177523</td>\n",
       "      <td>2.312930</td>\n",
       "    </tr>\n",
       "    <tr>\n",
       "      <th>4</th>\n",
       "      <td>114.42</td>\n",
       "      <td>4.10</td>\n",
       "      <td>122.86</td>\n",
       "      <td>76.11</td>\n",
       "      <td>123.89</td>\n",
       "      <td>52.92</td>\n",
       "      <td>123.22</td>\n",
       "      <td>15.33</td>\n",
       "      <td>92.30</td>\n",
       "      <td>1</td>\n",
       "      <td>27.907317</td>\n",
       "      <td>46.75</td>\n",
       "      <td>91.693333</td>\n",
       "      <td>0</td>\n",
       "      <td>201.454</td>\n",
       "      <td>2.341081</td>\n",
       "      <td>2.328420</td>\n",
       "      <td>148.534</td>\n",
       "      <td>0</td>\n",
       "      <td>0</td>\n",
       "      <td>0.166089</td>\n",
       "      <td>2.840084</td>\n",
       "    </tr>\n",
       "  </tbody>\n",
       "</table>\n",
       "</div>"
      ],
      "text/plain": [
       "   blood_glucose  hba1c  systolic_bp  diastolic_bp     ldl    hdl  \\\n",
       "0         107.38   4.93       109.25         74.10  129.20  52.11   \n",
       "1         108.65   5.43        92.61         62.02   51.18  44.06   \n",
       "2         103.95   6.08       122.95         63.01  107.72  52.08   \n",
       "3          87.33   4.79        91.16         75.81  109.39  46.83   \n",
       "4         114.42   4.10       122.86         76.11  123.89  52.92   \n",
       "\n",
       "   triglycerides  haemoglobin    mcv  condition  glucose_hba1c_ratio  \\\n",
       "0          68.84        10.17  61.54          0            21.780933   \n",
       "1          78.82        12.29  91.04          1            20.009208   \n",
       "2         139.58        15.93  81.75          1            17.097039   \n",
       "3         108.29        15.18  85.51          1            18.231733   \n",
       "4         123.22        15.33  92.30          1            27.907317   \n",
       "\n",
       "   pulse_pressure        MAP  hypertension_flag  total_cholesterol  \\\n",
       "0           35.15  85.816667                  0            195.078   \n",
       "1           30.59  72.216667                  0            111.004   \n",
       "2           59.94  82.990000                  0            187.716   \n",
       "3           15.35  80.926667                  0            177.878   \n",
       "4           46.75  91.693333                  0            201.454   \n",
       "\n",
       "   ldl_hdl_ratio  tg_hdl_ratio  non_hdl  anaemia_flag  microcytosis_flag  \\\n",
       "0       2.479371      1.321052  142.968             1                  1   \n",
       "1       1.161598      1.788924   66.944             0                  0   \n",
       "2       2.068356      2.680108  135.636             0                  0   \n",
       "3       2.335896      2.312407  131.048             0                  0   \n",
       "4       2.341081      2.328420  148.534             0                  0   \n",
       "\n",
       "   hb_mcv_ratio  risk_score  \n",
       "0      0.165258    2.468957  \n",
       "1      0.134996    1.918725  \n",
       "2      0.194862    2.769114  \n",
       "3      0.177523    2.312930  \n",
       "4      0.166089    2.840084  "
      ]
     },
     "execution_count": 109,
     "metadata": {},
     "output_type": "execute_result"
    }
   ],
   "source": [
    "df.head()"
   ]
  },
  {
   "cell_type": "code",
   "execution_count": 110,
   "metadata": {
    "execution": {
     "iopub.execute_input": "2025-09-04T12:14:51.280760Z",
     "iopub.status.busy": "2025-09-04T12:14:51.280442Z",
     "iopub.status.idle": "2025-09-04T12:14:51.295363Z",
     "shell.execute_reply": "2025-09-04T12:14:51.294107Z",
     "shell.execute_reply.started": "2025-09-04T12:14:51.280740Z"
    },
    "trusted": true
   },
   "outputs": [
    {
     "name": "stdout",
     "output_type": "stream",
     "text": [
      "<class 'pandas.core.frame.DataFrame'>\n",
      "Index: 21324 entries, 0 to 24999\n",
      "Data columns (total 22 columns):\n",
      " #   Column               Non-Null Count  Dtype  \n",
      "---  ------               --------------  -----  \n",
      " 0   blood_glucose        21324 non-null  float64\n",
      " 1   hba1c                21324 non-null  float64\n",
      " 2   systolic_bp          21324 non-null  float64\n",
      " 3   diastolic_bp         21324 non-null  float64\n",
      " 4   ldl                  21324 non-null  float64\n",
      " 5   hdl                  21324 non-null  float64\n",
      " 6   triglycerides        21324 non-null  float64\n",
      " 7   haemoglobin          21324 non-null  float64\n",
      " 8   mcv                  21324 non-null  float64\n",
      " 9   condition            21324 non-null  int64  \n",
      " 10  glucose_hba1c_ratio  21324 non-null  float64\n",
      " 11  pulse_pressure       21324 non-null  float64\n",
      " 12  MAP                  21324 non-null  float64\n",
      " 13  hypertension_flag    21324 non-null  int32  \n",
      " 14  total_cholesterol    21324 non-null  float64\n",
      " 15  ldl_hdl_ratio        21324 non-null  float64\n",
      " 16  tg_hdl_ratio         21324 non-null  float64\n",
      " 17  non_hdl              21324 non-null  float64\n",
      " 18  anaemia_flag         21324 non-null  int32  \n",
      " 19  microcytosis_flag    21324 non-null  int32  \n",
      " 20  hb_mcv_ratio         21324 non-null  float64\n",
      " 21  risk_score           21324 non-null  float64\n",
      "dtypes: float64(18), int32(3), int64(1)\n",
      "memory usage: 3.5 MB\n"
     ]
    }
   ],
   "source": [
    "df.info()"
   ]
  },
  {
   "cell_type": "markdown",
   "metadata": {
    "id": "mHAf1_EtlU4_"
   },
   "source": [
    "## ***➡PCA***"
   ]
  },
  {
   "cell_type": "code",
   "execution_count": 111,
   "metadata": {
    "execution": {
     "iopub.execute_input": "2025-09-04T12:14:51.296785Z",
     "iopub.status.busy": "2025-09-04T12:14:51.296443Z",
     "iopub.status.idle": "2025-09-04T12:14:51.678577Z",
     "shell.execute_reply": "2025-09-04T12:14:51.677466Z",
     "shell.execute_reply.started": "2025-09-04T12:14:51.296755Z"
    },
    "id": "MrfSg6o0lUaP",
    "trusted": true
   },
   "outputs": [],
   "source": [
    "from sklearn.decomposition import PCA"
   ]
  },
  {
   "cell_type": "code",
   "execution_count": 112,
   "metadata": {
    "execution": {
     "iopub.execute_input": "2025-09-04T12:14:51.680432Z",
     "iopub.status.busy": "2025-09-04T12:14:51.680109Z",
     "iopub.status.idle": "2025-09-04T12:14:51.742970Z",
     "shell.execute_reply": "2025-09-04T12:14:51.742303Z",
     "shell.execute_reply.started": "2025-09-04T12:14:51.680398Z"
    },
    "id": "xgHUJcvElZxb",
    "trusted": true
   },
   "outputs": [
    {
     "data": {
      "text/plain": [
       "array([0.282322  , 0.2216337 , 0.09846996, 0.08061661, 0.07654291,\n",
       "       0.07264627, 0.0622219 , 0.05257012, 0.0433639 ])"
      ]
     },
     "execution_count": 112,
     "metadata": {},
     "output_type": "execute_result"
    }
   ],
   "source": [
    "pca=PCA(n_components=0.95)\n",
    "features_pca=pca.fit_transform(features_scaler)\n",
    "explained_variance=pca.explained_variance_ratio_\n",
    "explained_variance"
   ]
  },
  {
   "cell_type": "markdown",
   "metadata": {},
   "source": [
    "---"
   ]
  },
  {
   "cell_type": "markdown",
   "metadata": {
    "id": "HL4l88bbfGOX"
   },
   "source": [
    "# **🤖model**"
   ]
  },
  {
   "cell_type": "code",
   "execution_count": 113,
   "metadata": {
    "execution": {
     "iopub.execute_input": "2025-09-04T12:14:51.743939Z",
     "iopub.status.busy": "2025-09-04T12:14:51.743636Z",
     "iopub.status.idle": "2025-09-04T12:14:51.752524Z",
     "shell.execute_reply": "2025-09-04T12:14:51.751311Z",
     "shell.execute_reply.started": "2025-09-04T12:14:51.743914Z"
    },
    "trusted": true
   },
   "outputs": [],
   "source": [
    "from sklearn.model_selection import train_test_split"
   ]
  },
  {
   "cell_type": "markdown",
   "metadata": {},
   "source": [
    "## ***➡Split***"
   ]
  },
  {
   "cell_type": "code",
   "execution_count": 114,
   "metadata": {
    "execution": {
     "iopub.execute_input": "2025-09-04T12:14:51.787308Z",
     "iopub.status.busy": "2025-09-04T12:14:51.785912Z",
     "iopub.status.idle": "2025-09-04T12:14:51.812138Z",
     "shell.execute_reply": "2025-09-04T12:14:51.811011Z",
     "shell.execute_reply.started": "2025-09-04T12:14:51.786234Z"
    },
    "id": "LLED6wn1j8MF",
    "trusted": true
   },
   "outputs": [],
   "source": [
    "X_train, X_test, Y_train, Y_test = train_test_split(features_pca, target, test_size=0.25, random_state=42)"
   ]
  },
  {
   "cell_type": "markdown",
   "metadata": {},
   "source": [
    "## **➡LogisticRegression**"
   ]
  },
  {
   "cell_type": "code",
   "execution_count": 115,
   "metadata": {
    "execution": {
     "iopub.execute_input": "2025-09-04T12:14:51.814347Z",
     "iopub.status.busy": "2025-09-04T12:14:51.812935Z",
     "iopub.status.idle": "2025-09-04T12:14:51.822793Z",
     "shell.execute_reply": "2025-09-04T12:14:51.821067Z",
     "shell.execute_reply.started": "2025-09-04T12:14:51.814315Z"
    },
    "trusted": true
   },
   "outputs": [],
   "source": [
    "from sklearn.linear_model import LogisticRegression"
   ]
  },
  {
   "cell_type": "code",
   "execution_count": 116,
   "metadata": {
    "execution": {
     "iopub.execute_input": "2025-09-04T12:14:51.825289Z",
     "iopub.status.busy": "2025-09-04T12:14:51.824957Z",
     "iopub.status.idle": "2025-09-04T12:14:52.363811Z",
     "shell.execute_reply": "2025-09-04T12:14:52.360769Z",
     "shell.execute_reply.started": "2025-09-04T12:14:51.825242Z"
    },
    "trusted": true
   },
   "outputs": [],
   "source": [
    "Lmodel = LogisticRegression(multi_class=\"multinomial\", solver=\"lbfgs\", max_iter=1000)\n",
    "Lmodel.fit(X_train, Y_train)\n",
    "y_pred = Lmodel.predict(X_test)"
   ]
  },
  {
   "cell_type": "code",
   "execution_count": 117,
   "metadata": {
    "execution": {
     "iopub.execute_input": "2025-09-04T12:14:52.366090Z",
     "iopub.status.busy": "2025-09-04T12:14:52.365727Z",
     "iopub.status.idle": "2025-09-04T12:14:52.375414Z",
     "shell.execute_reply": "2025-09-04T12:14:52.372757Z",
     "shell.execute_reply.started": "2025-09-04T12:14:52.366059Z"
    },
    "trusted": true
   },
   "outputs": [],
   "source": [
    "from sklearn.metrics import classification_report, confusion_matrix, accuracy_score"
   ]
  },
  {
   "cell_type": "code",
   "execution_count": 118,
   "metadata": {
    "execution": {
     "iopub.execute_input": "2025-09-04T12:14:52.377376Z",
     "iopub.status.busy": "2025-09-04T12:14:52.376704Z",
     "iopub.status.idle": "2025-09-04T12:14:52.419287Z",
     "shell.execute_reply": "2025-09-04T12:14:52.418548Z",
     "shell.execute_reply.started": "2025-09-04T12:14:52.377322Z"
    },
    "trusted": true
   },
   "outputs": [
    {
     "name": "stdout",
     "output_type": "stream",
     "text": [
      "Confusion Matrix for LogisticRegression : \n",
      "[[ 206    0    0    0    0]\n",
      " [   0 4194    0    0    0]\n",
      " [   0    0  416    0    0]\n",
      " [   0    3    0  442    0]\n",
      " [   0    1    0    0   69]]\n",
      "-------------------------------------------------\n",
      "0.9992496717313825\n",
      "-------------------------------------------------\n",
      "              precision    recall  f1-score   support\n",
      "\n",
      "           0       1.00      1.00      1.00       206\n",
      "           1       1.00      1.00      1.00      4194\n",
      "           2       1.00      1.00      1.00       416\n",
      "           3       1.00      0.99      1.00       445\n",
      "           4       1.00      0.99      0.99        70\n",
      "\n",
      "    accuracy                           1.00      5331\n",
      "   macro avg       1.00      1.00      1.00      5331\n",
      "weighted avg       1.00      1.00      1.00      5331\n",
      "\n"
     ]
    }
   ],
   "source": [
    "print('Confusion Matrix for LogisticRegression : ')\n",
    "print(confusion_matrix(Y_test, y_pred))\n",
    "print('-------------------------------------------------')\n",
    "print(accuracy_score(Y_test, y_pred))\n",
    "print('-------------------------------------------------')\n",
    "print(classification_report(Y_test, y_pred))"
   ]
  },
  {
   "cell_type": "markdown",
   "metadata": {},
   "source": [
    "## ***➡SVM***"
   ]
  },
  {
   "cell_type": "code",
   "execution_count": 119,
   "metadata": {
    "execution": {
     "iopub.execute_input": "2025-09-04T12:14:52.420204Z",
     "iopub.status.busy": "2025-09-04T12:14:52.419929Z",
     "iopub.status.idle": "2025-09-04T12:14:52.426676Z",
     "shell.execute_reply": "2025-09-04T12:14:52.424608Z",
     "shell.execute_reply.started": "2025-09-04T12:14:52.420182Z"
    },
    "trusted": true
   },
   "outputs": [],
   "source": [
    "#SVM\n",
    "from sklearn.svm import SVC"
   ]
  },
  {
   "cell_type": "code",
   "execution_count": 120,
   "metadata": {
    "execution": {
     "iopub.execute_input": "2025-09-04T12:14:52.430987Z",
     "iopub.status.busy": "2025-09-04T12:14:52.430030Z",
     "iopub.status.idle": "2025-09-04T12:14:52.449055Z",
     "shell.execute_reply": "2025-09-04T12:14:52.448284Z",
     "shell.execute_reply.started": "2025-09-04T12:14:52.430954Z"
    },
    "trusted": true
   },
   "outputs": [],
   "source": [
    "svm=SVC(kernel='poly', C=1.0, random_state=42)"
   ]
  },
  {
   "cell_type": "code",
   "execution_count": 121,
   "metadata": {
    "execution": {
     "iopub.execute_input": "2025-09-04T12:14:52.449991Z",
     "iopub.status.busy": "2025-09-04T12:14:52.449733Z",
     "iopub.status.idle": "2025-09-04T12:14:52.871156Z",
     "shell.execute_reply": "2025-09-04T12:14:52.870333Z",
     "shell.execute_reply.started": "2025-09-04T12:14:52.449970Z"
    },
    "trusted": true
   },
   "outputs": [],
   "source": [
    "svm.fit(X_train, Y_train)\n",
    "y_pred=svm.predict(X_test)"
   ]
  },
  {
   "cell_type": "code",
   "execution_count": 122,
   "metadata": {
    "execution": {
     "iopub.execute_input": "2025-09-04T12:14:52.872294Z",
     "iopub.status.busy": "2025-09-04T12:14:52.872011Z",
     "iopub.status.idle": "2025-09-04T12:14:52.882128Z",
     "shell.execute_reply": "2025-09-04T12:14:52.880928Z",
     "shell.execute_reply.started": "2025-09-04T12:14:52.872271Z"
    },
    "trusted": true
   },
   "outputs": [],
   "source": [
    "cm = confusion_matrix(Y_test, y_pred)\n",
    "accuracy = accuracy_score(Y_test, y_pred)"
   ]
  },
  {
   "cell_type": "code",
   "execution_count": 123,
   "metadata": {
    "execution": {
     "iopub.execute_input": "2025-09-04T12:14:52.883741Z",
     "iopub.status.busy": "2025-09-04T12:14:52.883424Z",
     "iopub.status.idle": "2025-09-04T12:14:52.916694Z",
     "shell.execute_reply": "2025-09-04T12:14:52.915817Z",
     "shell.execute_reply.started": "2025-09-04T12:14:52.883707Z"
    },
    "trusted": true
   },
   "outputs": [
    {
     "name": "stdout",
     "output_type": "stream",
     "text": [
      "Confusion Matrix:\n",
      " [[ 206    0    0    0    0]\n",
      " [   0 4194    0    0    0]\n",
      " [   0    0  416    0    0]\n",
      " [   0   13    0  432    0]\n",
      " [   0    1    0    0   69]]\n",
      "-------------------------------------------------\n",
      "Accuracy: 0.9973738510598387\n",
      "-------------------------------------------------\n",
      "              precision    recall  f1-score   support\n",
      "\n",
      "           0       1.00      1.00      1.00       206\n",
      "           1       1.00      1.00      1.00      4194\n",
      "           2       1.00      1.00      1.00       416\n",
      "           3       1.00      0.97      0.99       445\n",
      "           4       1.00      0.99      0.99        70\n",
      "\n",
      "    accuracy                           1.00      5331\n",
      "   macro avg       1.00      0.99      1.00      5331\n",
      "weighted avg       1.00      1.00      1.00      5331\n",
      "\n"
     ]
    }
   ],
   "source": [
    "print(\"Confusion Matrix:\\n\", cm)\n",
    "print('-------------------------------------------------')\n",
    "print(\"Accuracy:\", accuracy)\n",
    "print('-------------------------------------------------')\n",
    "print(classification_report(Y_test, y_pred))"
   ]
  },
  {
   "cell_type": "markdown",
   "metadata": {},
   "source": [
    " ## **🌴Decision Tree**"
   ]
  },
  {
   "cell_type": "code",
   "execution_count": 124,
   "metadata": {
    "execution": {
     "iopub.execute_input": "2025-09-04T12:14:52.917790Z",
     "iopub.status.busy": "2025-09-04T12:14:52.917540Z",
     "iopub.status.idle": "2025-09-04T12:14:52.929471Z",
     "shell.execute_reply": "2025-09-04T12:14:52.928492Z",
     "shell.execute_reply.started": "2025-09-04T12:14:52.917772Z"
    },
    "trusted": true
   },
   "outputs": [],
   "source": [
    "X_train, X_test, Y_train, Y_test = train_test_split(features_scaler, target, test_size=0.25, random_state=42)"
   ]
  },
  {
   "cell_type": "code",
   "execution_count": 125,
   "metadata": {
    "execution": {
     "iopub.execute_input": "2025-09-04T12:14:52.931141Z",
     "iopub.status.busy": "2025-09-04T12:14:52.930859Z",
     "iopub.status.idle": "2025-09-04T12:14:53.059307Z",
     "shell.execute_reply": "2025-09-04T12:14:53.058235Z",
     "shell.execute_reply.started": "2025-09-04T12:14:52.931120Z"
    },
    "trusted": true
   },
   "outputs": [],
   "source": [
    "from sklearn.tree import DecisionTreeClassifier\n",
    "from sklearn import tree"
   ]
  },
  {
   "cell_type": "code",
   "execution_count": 126,
   "metadata": {
    "execution": {
     "iopub.execute_input": "2025-09-04T12:14:53.060718Z",
     "iopub.status.busy": "2025-09-04T12:14:53.060384Z",
     "iopub.status.idle": "2025-09-04T12:14:56.169414Z",
     "shell.execute_reply": "2025-09-04T12:14:56.168436Z",
     "shell.execute_reply.started": "2025-09-04T12:14:53.060689Z"
    },
    "trusted": true
   },
   "outputs": [
    {
     "name": "stdout",
     "output_type": "stream",
     "text": [
      "[(1, 3, 0.864753329581692), (1, 4, 0.864753329581692), (1, 5, 0.864753329581692), (1, 6, 0.864753329581692), (1, 7, 0.864753329581692), (2, 3, 0.9482273494653911), (2, 4, 0.9482273494653911), (2, 5, 0.9482273494653911), (2, 6, 0.9482273494653911), (2, 7, 0.9482273494653911), (3, 3, 0.9868692552991934), (3, 4, 0.9868692552991934), (3, 5, 0.9868692552991934), (3, 6, 0.9868692552991934), (3, 7, 0.9868692552991934), (4, 3, 1.0), (4, 4, 1.0), (4, 5, 0.9998124179328456), (4, 6, 1.0), (4, 7, 1.0), (5, 3, 0.9998124179328456), (5, 4, 1.0), (5, 5, 1.0), (5, 6, 1.0), (5, 7, 1.0), (6, 3, 1.0), (6, 4, 1.0), (6, 5, 0.9998124179328456), (6, 6, 1.0), (6, 7, 1.0)]\n"
     ]
    }
   ],
   "source": [
    "scores=[]\n",
    "for depth in [1,2,3,4,5,6]:\n",
    "  for s in [3,4,5,6,7]:\n",
    "    TModel=DecisionTreeClassifier(max_depth=depth,min_samples_leaf=s)\n",
    "    TModel.fit(X_train,Y_train)\n",
    "    Acc=accuracy_score(Y_test,TModel.predict(X_test))\n",
    "    scores.append((depth,s,Acc))\n",
    "print(scores)"
   ]
  },
  {
   "cell_type": "code",
   "execution_count": 127,
   "metadata": {
    "execution": {
     "iopub.execute_input": "2025-09-04T12:14:56.170729Z",
     "iopub.status.busy": "2025-09-04T12:14:56.170434Z",
     "iopub.status.idle": "2025-09-04T12:14:56.176085Z",
     "shell.execute_reply": "2025-09-04T12:14:56.174867Z",
     "shell.execute_reply.started": "2025-09-04T12:14:56.170707Z"
    },
    "trusted": true
   },
   "outputs": [],
   "source": [
    "dt_model = DecisionTreeClassifier(criterion='gini', max_depth=6,splitter='best')"
   ]
  },
  {
   "cell_type": "code",
   "execution_count": 128,
   "metadata": {
    "execution": {
     "iopub.execute_input": "2025-09-04T12:14:56.177468Z",
     "iopub.status.busy": "2025-09-04T12:14:56.177108Z",
     "iopub.status.idle": "2025-09-04T12:14:56.330790Z",
     "shell.execute_reply": "2025-09-04T12:14:56.330052Z",
     "shell.execute_reply.started": "2025-09-04T12:14:56.177427Z"
    },
    "trusted": true
   },
   "outputs": [],
   "source": [
    "dt_model.fit(X_train, Y_train)\n",
    "y_pred_dt = dt_model.predict(X_test)"
   ]
  },
  {
   "cell_type": "code",
   "execution_count": 129,
   "metadata": {
    "execution": {
     "iopub.execute_input": "2025-09-04T12:14:56.332462Z",
     "iopub.status.busy": "2025-09-04T12:14:56.332124Z",
     "iopub.status.idle": "2025-09-04T12:14:56.354155Z",
     "shell.execute_reply": "2025-09-04T12:14:56.353353Z",
     "shell.execute_reply.started": "2025-09-04T12:14:56.332437Z"
    },
    "trusted": true
   },
   "outputs": [
    {
     "name": "stdout",
     "output_type": "stream",
     "text": [
      "Confusion Matrix for GaussianNB : \n",
      "[[ 206    0    0    0    0]\n",
      " [   0 4194    0    0    0]\n",
      " [   0    0  416    0    0]\n",
      " [   0    0    0  445    0]\n",
      " [   0    0    0    0   70]]\n",
      "-------------------------------------------------\n",
      "accuracy_score for GaussianNB :  1.0\n",
      "-------------------------------------------------\n",
      "              precision    recall  f1-score   support\n",
      "\n",
      "           0       1.00      1.00      1.00       206\n",
      "           1       1.00      1.00      1.00      4194\n",
      "           2       1.00      1.00      1.00       416\n",
      "           3       1.00      1.00      1.00       445\n",
      "           4       1.00      1.00      1.00        70\n",
      "\n",
      "    accuracy                           1.00      5331\n",
      "   macro avg       1.00      1.00      1.00      5331\n",
      "weighted avg       1.00      1.00      1.00      5331\n",
      "\n"
     ]
    }
   ],
   "source": [
    "print('Confusion Matrix for GaussianNB : ')\n",
    "print(confusion_matrix(Y_test, y_pred_dt))\n",
    "print('-------------------------------------------------')\n",
    "print('accuracy_score for GaussianNB : ',accuracy_score(Y_test, y_pred_dt))\n",
    "print('-------------------------------------------------')\n",
    "print(classification_report(Y_test, y_pred_dt))"
   ]
  },
  {
   "cell_type": "markdown",
   "metadata": {},
   "source": [
    "## ***📊 Naive Bayes***"
   ]
  },
  {
   "cell_type": "code",
   "execution_count": 130,
   "metadata": {
    "execution": {
     "iopub.execute_input": "2025-09-04T12:14:56.355338Z",
     "iopub.status.busy": "2025-09-04T12:14:56.355081Z",
     "iopub.status.idle": "2025-09-04T12:14:56.378444Z",
     "shell.execute_reply": "2025-09-04T12:14:56.377173Z",
     "shell.execute_reply.started": "2025-09-04T12:14:56.355319Z"
    },
    "trusted": true
   },
   "outputs": [],
   "source": [
    "from sklearn.naive_bayes import GaussianNB"
   ]
  },
  {
   "cell_type": "code",
   "execution_count": 131,
   "metadata": {
    "execution": {
     "iopub.execute_input": "2025-09-04T12:14:56.379817Z",
     "iopub.status.busy": "2025-09-04T12:14:56.379454Z",
     "iopub.status.idle": "2025-09-04T12:14:56.408844Z",
     "shell.execute_reply": "2025-09-04T12:14:56.407953Z",
     "shell.execute_reply.started": "2025-09-04T12:14:56.379791Z"
    },
    "trusted": true
   },
   "outputs": [],
   "source": [
    "nb_model = GaussianNB()\n",
    "nb_model.fit(X_train, Y_train)\n",
    "y_pred_nb = nb_model.predict(X_test)"
   ]
  },
  {
   "cell_type": "code",
   "execution_count": 132,
   "metadata": {
    "execution": {
     "iopub.execute_input": "2025-09-04T12:14:56.410301Z",
     "iopub.status.busy": "2025-09-04T12:14:56.409754Z",
     "iopub.status.idle": "2025-09-04T12:14:56.432599Z",
     "shell.execute_reply": "2025-09-04T12:14:56.431657Z",
     "shell.execute_reply.started": "2025-09-04T12:14:56.410273Z"
    },
    "trusted": true
   },
   "outputs": [
    {
     "name": "stdout",
     "output_type": "stream",
     "text": [
      "Confusion Matrix for GaussianNB : \n",
      "[[ 206    0    0    0    0]\n",
      " [   0 4194    0    0    0]\n",
      " [   0    0  416    0    0]\n",
      " [   0    5    0  440    0]\n",
      " [   0    0    0    0   70]]\n",
      "-------------------------------------------------\n",
      "accuracy_score for GaussianNB :  0.999062089664228\n",
      "-------------------------------------------------\n",
      "              precision    recall  f1-score   support\n",
      "\n",
      "           0       1.00      1.00      1.00       206\n",
      "           1       1.00      1.00      1.00      4194\n",
      "           2       1.00      1.00      1.00       416\n",
      "           3       1.00      0.99      0.99       445\n",
      "           4       1.00      1.00      1.00        70\n",
      "\n",
      "    accuracy                           1.00      5331\n",
      "   macro avg       1.00      1.00      1.00      5331\n",
      "weighted avg       1.00      1.00      1.00      5331\n",
      "\n"
     ]
    }
   ],
   "source": [
    "print('Confusion Matrix for GaussianNB : ')\n",
    "print(confusion_matrix(Y_test, y_pred_nb))\n",
    "print('-------------------------------------------------')\n",
    "print('accuracy_score for GaussianNB : ',accuracy_score(Y_test, y_pred_nb))\n",
    "print('-------------------------------------------------')\n",
    "print(classification_report(Y_test, y_pred_nb))"
   ]
  },
  {
   "cell_type": "markdown",
   "metadata": {},
   "source": [
    "## ***➡Hard Voting***"
   ]
  },
  {
   "cell_type": "code",
   "execution_count": 133,
   "metadata": {
    "execution": {
     "iopub.execute_input": "2025-09-04T12:14:56.434007Z",
     "iopub.status.busy": "2025-09-04T12:14:56.433670Z",
     "iopub.status.idle": "2025-09-04T12:14:56.581675Z",
     "shell.execute_reply": "2025-09-04T12:14:56.580727Z",
     "shell.execute_reply.started": "2025-09-04T12:14:56.433986Z"
    },
    "trusted": true
   },
   "outputs": [],
   "source": [
    "from sklearn.ensemble import VotingClassifier"
   ]
  },
  {
   "cell_type": "code",
   "execution_count": 134,
   "metadata": {
    "execution": {
     "iopub.execute_input": "2025-09-04T12:14:56.583032Z",
     "iopub.status.busy": "2025-09-04T12:14:56.582765Z",
     "iopub.status.idle": "2025-09-04T12:14:56.588286Z",
     "shell.execute_reply": "2025-09-04T12:14:56.587358Z",
     "shell.execute_reply.started": "2025-09-04T12:14:56.583011Z"
    },
    "trusted": true
   },
   "outputs": [],
   "source": [
    "voting_clf = VotingClassifier(\n",
    "    estimators=[('lr', Lmodel), ('dt', dt_model), ('nb', nb_model)],\n",
    "    voting='hard',\n",
    ")"
   ]
  },
  {
   "cell_type": "code",
   "execution_count": 135,
   "metadata": {
    "execution": {
     "iopub.execute_input": "2025-09-04T12:14:56.589544Z",
     "iopub.status.busy": "2025-09-04T12:14:56.589211Z",
     "iopub.status.idle": "2025-09-04T12:14:57.563427Z",
     "shell.execute_reply": "2025-09-04T12:14:57.562520Z",
     "shell.execute_reply.started": "2025-09-04T12:14:56.589519Z"
    },
    "trusted": true
   },
   "outputs": [],
   "source": [
    "voting_clf.fit(X_train, Y_train)\n",
    "y_pred_vc = voting_clf.predict(X_test)"
   ]
  },
  {
   "cell_type": "code",
   "execution_count": 136,
   "metadata": {
    "execution": {
     "iopub.execute_input": "2025-09-04T12:14:57.564473Z",
     "iopub.status.busy": "2025-09-04T12:14:57.564215Z",
     "iopub.status.idle": "2025-09-04T12:14:57.586618Z",
     "shell.execute_reply": "2025-09-04T12:14:57.585690Z",
     "shell.execute_reply.started": "2025-09-04T12:14:57.564455Z"
    },
    "trusted": true
   },
   "outputs": [
    {
     "name": "stdout",
     "output_type": "stream",
     "text": [
      "Confusion Matrix for GaussianNB : \n",
      "[[ 206    0    0    0    0]\n",
      " [   0 4194    0    0    0]\n",
      " [   0    0  416    0    0]\n",
      " [   0    2    0  443    0]\n",
      " [   0    1    0    0   69]]\n",
      "-------------------------------------------------\n",
      "accuracy_score for GaussianNB :  0.9994372537985369\n",
      "-------------------------------------------------\n",
      "              precision    recall  f1-score   support\n",
      "\n",
      "           0       1.00      1.00      1.00       206\n",
      "           1       1.00      1.00      1.00      4194\n",
      "           2       1.00      1.00      1.00       416\n",
      "           3       1.00      1.00      1.00       445\n",
      "           4       1.00      0.99      0.99        70\n",
      "\n",
      "    accuracy                           1.00      5331\n",
      "   macro avg       1.00      1.00      1.00      5331\n",
      "weighted avg       1.00      1.00      1.00      5331\n",
      "\n"
     ]
    }
   ],
   "source": [
    "print('Confusion Matrix for GaussianNB : ')\n",
    "print(confusion_matrix(Y_test, y_pred_vc))\n",
    "print('-------------------------------------------------')\n",
    "print('accuracy_score for GaussianNB : ',accuracy_score(Y_test, y_pred_vc))\n",
    "print('-------------------------------------------------')\n",
    "print(classification_report(Y_test, y_pred_vc))"
   ]
  },
  {
   "cell_type": "markdown",
   "metadata": {},
   "source": [
    "## ***➡Soft Voting***"
   ]
  },
  {
   "cell_type": "code",
   "execution_count": 137,
   "metadata": {
    "execution": {
     "iopub.execute_input": "2025-09-04T12:14:57.587889Z",
     "iopub.status.busy": "2025-09-04T12:14:57.587580Z",
     "iopub.status.idle": "2025-09-04T12:14:57.592277Z",
     "shell.execute_reply": "2025-09-04T12:14:57.591439Z",
     "shell.execute_reply.started": "2025-09-04T12:14:57.587868Z"
    },
    "trusted": true
   },
   "outputs": [],
   "source": [
    "from sklearn.ensemble import VotingClassifier"
   ]
  },
  {
   "cell_type": "code",
   "execution_count": 138,
   "metadata": {
    "execution": {
     "iopub.execute_input": "2025-09-04T12:14:57.593627Z",
     "iopub.status.busy": "2025-09-04T12:14:57.593314Z",
     "iopub.status.idle": "2025-09-04T12:14:57.610713Z",
     "shell.execute_reply": "2025-09-04T12:14:57.609853Z",
     "shell.execute_reply.started": "2025-09-04T12:14:57.593606Z"
    },
    "trusted": true
   },
   "outputs": [],
   "source": [
    "voting_clf_soft = VotingClassifier(\n",
    "    estimators=[('lr', Lmodel), ('dt', dt_model), ('nb', nb_model)],\n",
    "    voting='soft',\n",
    ")"
   ]
  },
  {
   "cell_type": "code",
   "execution_count": 139,
   "metadata": {
    "execution": {
     "iopub.execute_input": "2025-09-04T12:14:57.612246Z",
     "iopub.status.busy": "2025-09-04T12:14:57.611889Z",
     "iopub.status.idle": "2025-09-04T12:14:58.552900Z",
     "shell.execute_reply": "2025-09-04T12:14:58.551885Z",
     "shell.execute_reply.started": "2025-09-04T12:14:57.612214Z"
    },
    "trusted": true
   },
   "outputs": [],
   "source": [
    "voting_clf_soft.fit(X_train, Y_train)\n",
    "y_pred_vc_soft = voting_clf_soft.predict(X_test)"
   ]
  },
  {
   "cell_type": "code",
   "execution_count": 140,
   "metadata": {
    "execution": {
     "iopub.execute_input": "2025-09-04T12:14:58.554310Z",
     "iopub.status.busy": "2025-09-04T12:14:58.553962Z",
     "iopub.status.idle": "2025-09-04T12:14:58.577936Z",
     "shell.execute_reply": "2025-09-04T12:14:58.577108Z",
     "shell.execute_reply.started": "2025-09-04T12:14:58.554281Z"
    },
    "trusted": true
   },
   "outputs": [
    {
     "name": "stdout",
     "output_type": "stream",
     "text": [
      "Confusion Matrix for GaussianNB : \n",
      "[[ 206    0    0    0    0]\n",
      " [   0 4194    0    0    0]\n",
      " [   0    0  416    0    0]\n",
      " [   0    1    0  444    0]\n",
      " [   0    0    0    0   70]]\n",
      "-------------------------------------------------\n",
      "accuracy_score for GaussianNB :  0.9998124179328456\n",
      "-------------------------------------------------\n",
      "              precision    recall  f1-score   support\n",
      "\n",
      "           0       1.00      1.00      1.00       206\n",
      "           1       1.00      1.00      1.00      4194\n",
      "           2       1.00      1.00      1.00       416\n",
      "           3       1.00      1.00      1.00       445\n",
      "           4       1.00      1.00      1.00        70\n",
      "\n",
      "    accuracy                           1.00      5331\n",
      "   macro avg       1.00      1.00      1.00      5331\n",
      "weighted avg       1.00      1.00      1.00      5331\n",
      "\n"
     ]
    }
   ],
   "source": [
    "#soft voting\n",
    "print('Confusion Matrix for GaussianNB : ')\n",
    "print(confusion_matrix(Y_test, y_pred_vc_soft))\n",
    "print('-------------------------------------------------')\n",
    "print('accuracy_score for GaussianNB : ',accuracy_score(Y_test, y_pred_vc_soft))\n",
    "print('-------------------------------------------------')\n",
    "print(classification_report(Y_test, y_pred_vc_soft))"
   ]
  },
  {
   "cell_type": "markdown",
   "metadata": {},
   "source": [
    "## ***📶APIs***"
   ]
  },
  {
   "cell_type": "code",
   "execution_count": 141,
   "metadata": {
    "execution": {
     "iopub.execute_input": "2025-09-04T12:14:58.579285Z",
     "iopub.status.busy": "2025-09-04T12:14:58.578947Z",
     "iopub.status.idle": "2025-09-04T12:14:58.586904Z",
     "shell.execute_reply": "2025-09-04T12:14:58.585878Z",
     "shell.execute_reply.started": "2025-09-04T12:14:58.579231Z"
    },
    "trusted": true
   },
   "outputs": [],
   "source": [
    "import joblib\n",
    "# joblib.dump(Lmodel, 'Logistic_health_model.pkl')"
   ]
  },
  {
   "cell_type": "code",
   "execution_count": 142,
   "metadata": {
    "execution": {
     "iopub.execute_input": "2025-09-04T12:14:58.588375Z",
     "iopub.status.busy": "2025-09-04T12:14:58.587929Z",
     "iopub.status.idle": "2025-09-04T12:14:58.608967Z",
     "shell.execute_reply": "2025-09-04T12:14:58.607944Z",
     "shell.execute_reply.started": "2025-09-04T12:14:58.588350Z"
    },
    "trusted": true
   },
   "outputs": [],
   "source": [
    "# joblib.dump(dt_model, 'Tree_health_model.pkl')"
   ]
  },
  {
   "cell_type": "code",
   "execution_count": 143,
   "metadata": {
    "execution": {
     "iopub.execute_input": "2025-09-04T12:14:58.610481Z",
     "iopub.status.busy": "2025-09-04T12:14:58.610116Z",
     "iopub.status.idle": "2025-09-04T12:14:58.631889Z",
     "shell.execute_reply": "2025-09-04T12:14:58.630727Z",
     "shell.execute_reply.started": "2025-09-04T12:14:58.610458Z"
    },
    "trusted": true
   },
   "outputs": [],
   "source": [
    "# joblib.dump(nb_model, 'Logistic_health_model.pkl')"
   ]
  },
  {
   "cell_type": "code",
   "execution_count": 144,
   "metadata": {
    "execution": {
     "iopub.execute_input": "2025-09-04T12:14:58.633402Z",
     "iopub.status.busy": "2025-09-04T12:14:58.633076Z",
     "iopub.status.idle": "2025-09-04T12:14:58.651755Z",
     "shell.execute_reply": "2025-09-04T12:14:58.650830Z",
     "shell.execute_reply.started": "2025-09-04T12:14:58.633377Z"
    },
    "trusted": true
   },
   "outputs": [
    {
     "data": {
      "text/plain": [
       "['Voting_health_model.pkl']"
      ]
     },
     "execution_count": 144,
     "metadata": {},
     "output_type": "execute_result"
    }
   ],
   "source": [
    "joblib.dump(voting_clf, 'Voting_health_model.pkl')"
   ]
  },
  {
   "cell_type": "markdown",
   "metadata": {},
   "source": [
    "---"
   ]
  },
  {
   "cell_type": "markdown",
   "metadata": {},
   "source": [
    "# **👥About Us**"
   ]
  },
  {
   "cell_type": "markdown",
   "metadata": {},
   "source": [
    "**Mohamed Sameh** =>  computer and information science Ain Shams University\n",
    "\n",
    "**linkedin** ⇒ https://www.linkedin.com/in/mohamed-sameh-a4a61b232/\n",
    "\n",
    "**WhatsAPP** ⇒ 01285452940"
   ]
  }
 ],
 "metadata": {
  "colab": {
   "provenance": []
  },
  "kaggle": {
   "accelerator": "none",
   "dataSources": [
    {
     "datasetId": 6647885,
     "sourceId": 10769790,
     "sourceType": "datasetVersion"
    }
   ],
   "dockerImageVersionId": 31089,
   "isGpuEnabled": false,
   "isInternetEnabled": true,
   "language": "python",
   "sourceType": "notebook"
  },
  "kernelspec": {
   "display_name": "tensorflow",
   "language": "python",
   "name": "python3"
  },
  "language_info": {
   "codemirror_mode": {
    "name": "ipython",
    "version": 3
   },
   "file_extension": ".py",
   "mimetype": "text/x-python",
   "name": "python",
   "nbconvert_exporter": "python",
   "pygments_lexer": "ipython3",
   "version": "3.9.18"
  }
 },
 "nbformat": 4,
 "nbformat_minor": 4
}
